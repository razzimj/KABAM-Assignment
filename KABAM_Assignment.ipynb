{
 "cells": [
  {
   "cell_type": "markdown",
   "metadata": {},
   "source": [
    "# Start"
   ]
  },
  {
   "cell_type": "code",
   "execution_count": 1,
   "metadata": {},
   "outputs": [
    {
     "name": "stderr",
     "output_type": "stream",
     "text": [
      "Using TensorFlow backend.\n"
     ]
    }
   ],
   "source": [
    "### Let's import some libraries ...\n",
    "\n",
    "import numpy as np\n",
    "import pandas as pd\n",
    "import random\n",
    "\n",
    "import sqlite3\n",
    "import pyarrow as pa\n",
    "import pyarrow.parquet as pq\n",
    "\n",
    "import matplotlib.pyplot as plt\n",
    "from scipy import stats\n",
    "from sklearn.model_selection import train_test_split\n",
    "from sklearn.model_selection import cross_val_score\n",
    "from sklearn.metrics import confusion_matrix\n",
    "from sklearn.metrics import f1_score, recall_score, precision_score\n",
    "from sklearn.metrics import roc_curve, roc_auc_score, precision_recall_curve\n",
    "from sklearn.model_selection import RepeatedStratifiedKFold\n",
    "from imblearn.pipeline import Pipeline\n",
    "from imblearn.over_sampling import SMOTE\n",
    "from imblearn.under_sampling import RandomUnderSampler\n",
    "from sklearn.model_selection import cross_val_predict\n",
    "from sklearn.preprocessing import StandardScaler\n",
    "\n",
    "from sklearn.ensemble import RandomForestClassifier\n",
    "from sklearn.linear_model import LogisticRegression\n",
    "from sklearn.svm import SVC\n",
    "from sklearn.ensemble import GradientBoostingClassifier\n",
    "from sklearn.ensemble import AdaBoostClassifier\n",
    "from xgboost import XGBClassifier\n",
    "\n",
    "\n",
    "random.seed(2021)"
   ]
  },
  {
   "cell_type": "markdown",
   "metadata": {},
   "source": [
    "# Reading the Data"
   ]
  },
  {
   "cell_type": "markdown",
   "metadata": {},
   "source": [
    "We have three different sources for data. Below, we read each using the appropriate method into a Pandas data frame.\n"
   ]
  },
  {
   "cell_type": "code",
   "execution_count": 2,
   "metadata": {},
   "outputs": [
    {
     "data": {
      "text/html": [
       "<div>\n",
       "<style scoped>\n",
       "    .dataframe tbody tr th:only-of-type {\n",
       "        vertical-align: middle;\n",
       "    }\n",
       "\n",
       "    .dataframe tbody tr th {\n",
       "        vertical-align: top;\n",
       "    }\n",
       "\n",
       "    .dataframe thead th {\n",
       "        text-align: right;\n",
       "    }\n",
       "</style>\n",
       "<table border=\"1\" class=\"dataframe\">\n",
       "  <thead>\n",
       "    <tr style=\"text-align: right;\">\n",
       "      <th></th>\n",
       "      <th>uid_s</th>\n",
       "      <th>lang_s</th>\n",
       "      <th>geo_s</th>\n",
       "      <th>region_s</th>\n",
       "      <th>tz_i</th>\n",
       "      <th>local_time_join_hour</th>\n",
       "      <th>local_time_join_dow</th>\n",
       "      <th>total_spend</th>\n",
       "    </tr>\n",
       "  </thead>\n",
       "  <tbody>\n",
       "    <tr>\n",
       "      <th>0</th>\n",
       "      <td>0</td>\n",
       "      <td>EN</td>\n",
       "      <td>MY</td>\n",
       "      <td>asia</td>\n",
       "      <td>28800</td>\n",
       "      <td>14</td>\n",
       "      <td>3</td>\n",
       "      <td>0</td>\n",
       "    </tr>\n",
       "    <tr>\n",
       "      <th>1</th>\n",
       "      <td>1</td>\n",
       "      <td>ES</td>\n",
       "      <td>MX</td>\n",
       "      <td>americas</td>\n",
       "      <td>-18000</td>\n",
       "      <td>14</td>\n",
       "      <td>1</td>\n",
       "      <td>0</td>\n",
       "    </tr>\n",
       "    <tr>\n",
       "      <th>2</th>\n",
       "      <td>2</td>\n",
       "      <td>ZH-CN</td>\n",
       "      <td>CN</td>\n",
       "      <td>asia</td>\n",
       "      <td>28800</td>\n",
       "      <td>2</td>\n",
       "      <td>3</td>\n",
       "      <td>0</td>\n",
       "    </tr>\n",
       "    <tr>\n",
       "      <th>3</th>\n",
       "      <td>3</td>\n",
       "      <td>ZH-CN</td>\n",
       "      <td>CN</td>\n",
       "      <td>asia</td>\n",
       "      <td>28800</td>\n",
       "      <td>8</td>\n",
       "      <td>6</td>\n",
       "      <td>0</td>\n",
       "    </tr>\n",
       "    <tr>\n",
       "      <th>4</th>\n",
       "      <td>4</td>\n",
       "      <td>EN</td>\n",
       "      <td>IN</td>\n",
       "      <td>asia</td>\n",
       "      <td>19800</td>\n",
       "      <td>19</td>\n",
       "      <td>6</td>\n",
       "      <td>0</td>\n",
       "    </tr>\n",
       "  </tbody>\n",
       "</table>\n",
       "</div>"
      ],
      "text/plain": [
       "   uid_s lang_s geo_s  region_s   tz_i  local_time_join_hour  \\\n",
       "0      0     EN    MY      asia  28800                    14   \n",
       "1      1     ES    MX  americas -18000                    14   \n",
       "2      2  ZH-CN    CN      asia  28800                     2   \n",
       "3      3  ZH-CN    CN      asia  28800                     8   \n",
       "4      4     EN    IN      asia  19800                    19   \n",
       "\n",
       "   local_time_join_dow  total_spend  \n",
       "0                    3            0  \n",
       "1                    1            0  \n",
       "2                    3            0  \n",
       "3                    6            0  \n",
       "4                    6            0  "
      ]
     },
     "metadata": {},
     "output_type": "display_data"
    },
    {
     "name": "stdout",
     "output_type": "stream",
     "text": [
      "shape of the data frame:  (2845931, 8)\n"
     ]
    }
   ],
   "source": [
    "### Let's read ka_users.csv file as a pandas dataframe\n",
    "df_ka_users = pd.read_csv(\"ka_users.csv\")\n",
    "\n",
    "### Let's have a look at the dataframe\n",
    "display(df_ka_users.head() )\n",
    "print(\"shape of the data frame: \", df_ka_users.shape)"
   ]
  },
  {
   "cell_type": "code",
   "execution_count": 3,
   "metadata": {},
   "outputs": [
    {
     "data": {
      "text/html": [
       "<div>\n",
       "<style scoped>\n",
       "    .dataframe tbody tr th:only-of-type {\n",
       "        vertical-align: middle;\n",
       "    }\n",
       "\n",
       "    .dataframe tbody tr th {\n",
       "        vertical-align: top;\n",
       "    }\n",
       "\n",
       "    .dataframe thead th {\n",
       "        text-align: right;\n",
       "    }\n",
       "</style>\n",
       "<table border=\"1\" class=\"dataframe\">\n",
       "  <thead>\n",
       "    <tr style=\"text-align: right;\">\n",
       "      <th></th>\n",
       "      <th>uid_s</th>\n",
       "      <th>platform_s</th>\n",
       "      <th>device_mapped_s</th>\n",
       "      <th>device_manufacturer_s</th>\n",
       "      <th>device_mem_i</th>\n",
       "      <th>device_gmem_i</th>\n",
       "      <th>device_mem_grouping_i</th>\n",
       "      <th>device_gmem_grouping_i</th>\n",
       "      <th>device_numcpu_i</th>\n",
       "      <th>device_height_i</th>\n",
       "      <th>device_gpu_s</th>\n",
       "      <th>device_os_s</th>\n",
       "      <th>device_model_s</th>\n",
       "    </tr>\n",
       "  </thead>\n",
       "  <tbody>\n",
       "    <tr>\n",
       "      <th>0</th>\n",
       "      <td>0</td>\n",
       "      <td>android</td>\n",
       "      <td>asus_x01ad</td>\n",
       "      <td>asus</td>\n",
       "      <td>3575.0</td>\n",
       "      <td>1024.0</td>\n",
       "      <td>3584.0</td>\n",
       "      <td>1024.0</td>\n",
       "      <td>8.0</td>\n",
       "      <td>720.0</td>\n",
       "      <td>adreno (tm) 506</td>\n",
       "      <td>android os 9 / api-28 (ww_phone-201905061022/1...</td>\n",
       "      <td>asus_x01ad</td>\n",
       "    </tr>\n",
       "    <tr>\n",
       "      <th>1</th>\n",
       "      <td>1</td>\n",
       "      <td>android</td>\n",
       "      <td>moto g (5)</td>\n",
       "      <td>motorola</td>\n",
       "      <td>1867.0</td>\n",
       "      <td>512.0</td>\n",
       "      <td>1920.0</td>\n",
       "      <td>512.0</td>\n",
       "      <td>8.0</td>\n",
       "      <td>1080.0</td>\n",
       "      <td>adreno (tm) 505</td>\n",
       "      <td>android os 8.1.0 / api-27 (opps28.85-13-6/04442)</td>\n",
       "      <td>moto g (5)</td>\n",
       "    </tr>\n",
       "    <tr>\n",
       "      <th>2</th>\n",
       "      <td>2</td>\n",
       "      <td>android</td>\n",
       "      <td>mi 6</td>\n",
       "      <td>xiaomi</td>\n",
       "      <td>3726.0</td>\n",
       "      <td>1024.0</td>\n",
       "      <td>3776.0</td>\n",
       "      <td>1024.0</td>\n",
       "      <td>8.0</td>\n",
       "      <td>1080.0</td>\n",
       "      <td>adreno (tm) 540</td>\n",
       "      <td>android os 8.0.0 / api-26 (opr1.170623.027/v10...</td>\n",
       "      <td>mi 6</td>\n",
       "    </tr>\n",
       "    <tr>\n",
       "      <th>3</th>\n",
       "      <td>3</td>\n",
       "      <td>android</td>\n",
       "      <td>oppo r7splus</td>\n",
       "      <td>oppo</td>\n",
       "      <td>3629.0</td>\n",
       "      <td>1024.0</td>\n",
       "      <td>3648.0</td>\n",
       "      <td>1024.0</td>\n",
       "      <td>8.0</td>\n",
       "      <td>1080.0</td>\n",
       "      <td>adreno (tm) 405</td>\n",
       "      <td>android os 5.1.1 / api-22 (lmy47v/eng.root.201...</td>\n",
       "      <td>oppo r7splus</td>\n",
       "    </tr>\n",
       "    <tr>\n",
       "      <th>4</th>\n",
       "      <td>4</td>\n",
       "      <td>android</td>\n",
       "      <td>cph1803</td>\n",
       "      <td>oppo</td>\n",
       "      <td>2816.0</td>\n",
       "      <td>1024.0</td>\n",
       "      <td>2816.0</td>\n",
       "      <td>1024.0</td>\n",
       "      <td>8.0</td>\n",
       "      <td>720.0</td>\n",
       "      <td>adreno (tm) 506</td>\n",
       "      <td>android os 8.1.0 / api-27 (opm1.171019.026/155...</td>\n",
       "      <td>cph1803</td>\n",
       "    </tr>\n",
       "  </tbody>\n",
       "</table>\n",
       "</div>"
      ],
      "text/plain": [
       "   uid_s platform_s device_mapped_s device_manufacturer_s  device_mem_i  \\\n",
       "0      0    android      asus_x01ad                  asus        3575.0   \n",
       "1      1    android      moto g (5)              motorola        1867.0   \n",
       "2      2    android            mi 6                xiaomi        3726.0   \n",
       "3      3    android    oppo r7splus                  oppo        3629.0   \n",
       "4      4    android         cph1803                  oppo        2816.0   \n",
       "\n",
       "   device_gmem_i  device_mem_grouping_i  device_gmem_grouping_i  \\\n",
       "0         1024.0                 3584.0                  1024.0   \n",
       "1          512.0                 1920.0                   512.0   \n",
       "2         1024.0                 3776.0                  1024.0   \n",
       "3         1024.0                 3648.0                  1024.0   \n",
       "4         1024.0                 2816.0                  1024.0   \n",
       "\n",
       "   device_numcpu_i  device_height_i     device_gpu_s  \\\n",
       "0              8.0            720.0  adreno (tm) 506   \n",
       "1              8.0           1080.0  adreno (tm) 505   \n",
       "2              8.0           1080.0  adreno (tm) 540   \n",
       "3              8.0           1080.0  adreno (tm) 405   \n",
       "4              8.0            720.0  adreno (tm) 506   \n",
       "\n",
       "                                         device_os_s device_model_s  \n",
       "0  android os 9 / api-28 (ww_phone-201905061022/1...     asus_x01ad  \n",
       "1   android os 8.1.0 / api-27 (opps28.85-13-6/04442)     moto g (5)  \n",
       "2  android os 8.0.0 / api-26 (opr1.170623.027/v10...           mi 6  \n",
       "3  android os 5.1.1 / api-22 (lmy47v/eng.root.201...   oppo r7splus  \n",
       "4  android os 8.1.0 / api-27 (opm1.171019.026/155...        cph1803  "
      ]
     },
     "metadata": {},
     "output_type": "display_data"
    },
    {
     "name": "stdout",
     "output_type": "stream",
     "text": [
      "shape of the data frame:  (2845931, 13)\n"
     ]
    }
   ],
   "source": [
    "### Let's read \"devices.db\" as a pandas dataframe - (stored in a table called 'devices')\n",
    "\n",
    "conn = sqlite3.connect('ka_devices.db') \n",
    "          \n",
    "sql_query = pd.read_sql_query ('''\n",
    "                               SELECT\n",
    "                               *\n",
    "                               FROM devices\n",
    "                               ''', conn)\n",
    "\n",
    "df_ka_devices = pd.DataFrame(sql_query)\n",
    "df_ka_devices.drop(\"index\", axis= 1, inplace= True)\n",
    "display(df_ka_devices.head() )\n",
    "print(\"shape of the data frame: \", df_ka_devices.shape)"
   ]
  },
  {
   "cell_type": "code",
   "execution_count": 4,
   "metadata": {},
   "outputs": [
    {
     "data": {
      "text/html": [
       "<div>\n",
       "<style scoped>\n",
       "    .dataframe tbody tr th:only-of-type {\n",
       "        vertical-align: middle;\n",
       "    }\n",
       "\n",
       "    .dataframe tbody tr th {\n",
       "        vertical-align: top;\n",
       "    }\n",
       "\n",
       "    .dataframe thead th {\n",
       "        text-align: right;\n",
       "    }\n",
       "</style>\n",
       "<table border=\"1\" class=\"dataframe\">\n",
       "  <thead>\n",
       "    <tr style=\"text-align: right;\">\n",
       "      <th></th>\n",
       "      <th>uid_s</th>\n",
       "      <th>logins</th>\n",
       "      <th>game_stats_tutorial_complete</th>\n",
       "      <th>game_stats_tutorial_complete_time</th>\n",
       "      <th>game_stats_xp</th>\n",
       "      <th>game_stats_xp1</th>\n",
       "      <th>game_stats_xp2</th>\n",
       "      <th>game_stats_xp3</th>\n",
       "      <th>redeemer_actions</th>\n",
       "      <th>scribe_actions</th>\n",
       "    </tr>\n",
       "  </thead>\n",
       "  <tbody>\n",
       "    <tr>\n",
       "      <th>0</th>\n",
       "      <td>0</td>\n",
       "      <td>7.0</td>\n",
       "      <td>1.0</td>\n",
       "      <td>4.700000e+08</td>\n",
       "      <td>1693.0</td>\n",
       "      <td>592.0</td>\n",
       "      <td>0.0</td>\n",
       "      <td>429.0</td>\n",
       "      <td>446.0</td>\n",
       "      <td>364.0</td>\n",
       "    </tr>\n",
       "    <tr>\n",
       "      <th>1</th>\n",
       "      <td>1</td>\n",
       "      <td>2.0</td>\n",
       "      <td>1.0</td>\n",
       "      <td>6.120000e+08</td>\n",
       "      <td>197.0</td>\n",
       "      <td>197.0</td>\n",
       "      <td>0.0</td>\n",
       "      <td>0.0</td>\n",
       "      <td>60.0</td>\n",
       "      <td>125.0</td>\n",
       "    </tr>\n",
       "    <tr>\n",
       "      <th>2</th>\n",
       "      <td>2</td>\n",
       "      <td>2.0</td>\n",
       "      <td>1.0</td>\n",
       "      <td>3.900000e+08</td>\n",
       "      <td>313.0</td>\n",
       "      <td>313.0</td>\n",
       "      <td>0.0</td>\n",
       "      <td>0.0</td>\n",
       "      <td>89.0</td>\n",
       "      <td>129.0</td>\n",
       "    </tr>\n",
       "    <tr>\n",
       "      <th>3</th>\n",
       "      <td>3</td>\n",
       "      <td>3.0</td>\n",
       "      <td>1.0</td>\n",
       "      <td>6.610000e+08</td>\n",
       "      <td>1319.0</td>\n",
       "      <td>1319.0</td>\n",
       "      <td>0.0</td>\n",
       "      <td>0.0</td>\n",
       "      <td>275.0</td>\n",
       "      <td>200.0</td>\n",
       "    </tr>\n",
       "    <tr>\n",
       "      <th>4</th>\n",
       "      <td>4</td>\n",
       "      <td>4.0</td>\n",
       "      <td>1.0</td>\n",
       "      <td>3.147000e+09</td>\n",
       "      <td>148.0</td>\n",
       "      <td>148.0</td>\n",
       "      <td>0.0</td>\n",
       "      <td>0.0</td>\n",
       "      <td>58.0</td>\n",
       "      <td>138.0</td>\n",
       "    </tr>\n",
       "  </tbody>\n",
       "</table>\n",
       "</div>"
      ],
      "text/plain": [
       "   uid_s  logins  game_stats_tutorial_complete  \\\n",
       "0      0     7.0                           1.0   \n",
       "1      1     2.0                           1.0   \n",
       "2      2     2.0                           1.0   \n",
       "3      3     3.0                           1.0   \n",
       "4      4     4.0                           1.0   \n",
       "\n",
       "   game_stats_tutorial_complete_time  game_stats_xp  game_stats_xp1  \\\n",
       "0                       4.700000e+08         1693.0           592.0   \n",
       "1                       6.120000e+08          197.0           197.0   \n",
       "2                       3.900000e+08          313.0           313.0   \n",
       "3                       6.610000e+08         1319.0          1319.0   \n",
       "4                       3.147000e+09          148.0           148.0   \n",
       "\n",
       "   game_stats_xp2  game_stats_xp3  redeemer_actions  scribe_actions  \n",
       "0             0.0           429.0             446.0           364.0  \n",
       "1             0.0             0.0              60.0           125.0  \n",
       "2             0.0             0.0              89.0           129.0  \n",
       "3             0.0             0.0             275.0           200.0  \n",
       "4             0.0             0.0              58.0           138.0  "
      ]
     },
     "metadata": {},
     "output_type": "display_data"
    },
    {
     "name": "stdout",
     "output_type": "stream",
     "text": [
      "shape of the data frame:  (2845931, 10)\n"
     ]
    }
   ],
   "source": [
    "### Let's read \"ka_actions.parquet\" as a pandas dataframe\n",
    "df_ka_actions = pq.read_table('ka_actions.parquet').to_pandas()\n",
    "\n",
    "display(df_ka_actions.head())\n",
    "print(\"shape of the data frame: \", df_ka_actions.shape)"
   ]
  },
  {
   "cell_type": "markdown",
   "metadata": {},
   "source": [
    "## Combining the Data"
   ]
  },
  {
   "cell_type": "markdown",
   "metadata": {},
   "source": [
    "\n",
    "It seems all the data frames have a column in common called \"__uid_s__\" (which is unique user identifier).\n",
    "\n",
    "So, let's combine all the data frames into one using \"__uid_s__\" column. "
   ]
  },
  {
   "cell_type": "code",
   "execution_count": 5,
   "metadata": {},
   "outputs": [
    {
     "data": {
      "text/html": [
       "<div>\n",
       "<style scoped>\n",
       "    .dataframe tbody tr th:only-of-type {\n",
       "        vertical-align: middle;\n",
       "    }\n",
       "\n",
       "    .dataframe tbody tr th {\n",
       "        vertical-align: top;\n",
       "    }\n",
       "\n",
       "    .dataframe thead th {\n",
       "        text-align: right;\n",
       "    }\n",
       "</style>\n",
       "<table border=\"1\" class=\"dataframe\">\n",
       "  <thead>\n",
       "    <tr style=\"text-align: right;\">\n",
       "      <th></th>\n",
       "      <th>uid_s</th>\n",
       "      <th>lang_s</th>\n",
       "      <th>geo_s</th>\n",
       "      <th>region_s</th>\n",
       "      <th>tz_i</th>\n",
       "      <th>local_time_join_hour</th>\n",
       "      <th>local_time_join_dow</th>\n",
       "      <th>total_spend</th>\n",
       "      <th>logins</th>\n",
       "      <th>game_stats_tutorial_complete</th>\n",
       "      <th>...</th>\n",
       "      <th>device_manufacturer_s</th>\n",
       "      <th>device_mem_i</th>\n",
       "      <th>device_gmem_i</th>\n",
       "      <th>device_mem_grouping_i</th>\n",
       "      <th>device_gmem_grouping_i</th>\n",
       "      <th>device_numcpu_i</th>\n",
       "      <th>device_height_i</th>\n",
       "      <th>device_gpu_s</th>\n",
       "      <th>device_os_s</th>\n",
       "      <th>device_model_s</th>\n",
       "    </tr>\n",
       "  </thead>\n",
       "  <tbody>\n",
       "    <tr>\n",
       "      <th>0</th>\n",
       "      <td>0</td>\n",
       "      <td>EN</td>\n",
       "      <td>MY</td>\n",
       "      <td>asia</td>\n",
       "      <td>28800</td>\n",
       "      <td>14</td>\n",
       "      <td>3</td>\n",
       "      <td>0</td>\n",
       "      <td>7.0</td>\n",
       "      <td>1.0</td>\n",
       "      <td>...</td>\n",
       "      <td>asus</td>\n",
       "      <td>3575.0</td>\n",
       "      <td>1024.0</td>\n",
       "      <td>3584.0</td>\n",
       "      <td>1024.0</td>\n",
       "      <td>8.0</td>\n",
       "      <td>720.0</td>\n",
       "      <td>adreno (tm) 506</td>\n",
       "      <td>android os 9 / api-28 (ww_phone-201905061022/1...</td>\n",
       "      <td>asus_x01ad</td>\n",
       "    </tr>\n",
       "    <tr>\n",
       "      <th>1</th>\n",
       "      <td>1</td>\n",
       "      <td>ES</td>\n",
       "      <td>MX</td>\n",
       "      <td>americas</td>\n",
       "      <td>-18000</td>\n",
       "      <td>14</td>\n",
       "      <td>1</td>\n",
       "      <td>0</td>\n",
       "      <td>2.0</td>\n",
       "      <td>1.0</td>\n",
       "      <td>...</td>\n",
       "      <td>motorola</td>\n",
       "      <td>1867.0</td>\n",
       "      <td>512.0</td>\n",
       "      <td>1920.0</td>\n",
       "      <td>512.0</td>\n",
       "      <td>8.0</td>\n",
       "      <td>1080.0</td>\n",
       "      <td>adreno (tm) 505</td>\n",
       "      <td>android os 8.1.0 / api-27 (opps28.85-13-6/04442)</td>\n",
       "      <td>moto g (5)</td>\n",
       "    </tr>\n",
       "    <tr>\n",
       "      <th>2</th>\n",
       "      <td>2</td>\n",
       "      <td>ZH-CN</td>\n",
       "      <td>CN</td>\n",
       "      <td>asia</td>\n",
       "      <td>28800</td>\n",
       "      <td>2</td>\n",
       "      <td>3</td>\n",
       "      <td>0</td>\n",
       "      <td>2.0</td>\n",
       "      <td>1.0</td>\n",
       "      <td>...</td>\n",
       "      <td>xiaomi</td>\n",
       "      <td>3726.0</td>\n",
       "      <td>1024.0</td>\n",
       "      <td>3776.0</td>\n",
       "      <td>1024.0</td>\n",
       "      <td>8.0</td>\n",
       "      <td>1080.0</td>\n",
       "      <td>adreno (tm) 540</td>\n",
       "      <td>android os 8.0.0 / api-26 (opr1.170623.027/v10...</td>\n",
       "      <td>mi 6</td>\n",
       "    </tr>\n",
       "    <tr>\n",
       "      <th>3</th>\n",
       "      <td>3</td>\n",
       "      <td>ZH-CN</td>\n",
       "      <td>CN</td>\n",
       "      <td>asia</td>\n",
       "      <td>28800</td>\n",
       "      <td>8</td>\n",
       "      <td>6</td>\n",
       "      <td>0</td>\n",
       "      <td>3.0</td>\n",
       "      <td>1.0</td>\n",
       "      <td>...</td>\n",
       "      <td>oppo</td>\n",
       "      <td>3629.0</td>\n",
       "      <td>1024.0</td>\n",
       "      <td>3648.0</td>\n",
       "      <td>1024.0</td>\n",
       "      <td>8.0</td>\n",
       "      <td>1080.0</td>\n",
       "      <td>adreno (tm) 405</td>\n",
       "      <td>android os 5.1.1 / api-22 (lmy47v/eng.root.201...</td>\n",
       "      <td>oppo r7splus</td>\n",
       "    </tr>\n",
       "    <tr>\n",
       "      <th>4</th>\n",
       "      <td>4</td>\n",
       "      <td>EN</td>\n",
       "      <td>IN</td>\n",
       "      <td>asia</td>\n",
       "      <td>19800</td>\n",
       "      <td>19</td>\n",
       "      <td>6</td>\n",
       "      <td>0</td>\n",
       "      <td>4.0</td>\n",
       "      <td>1.0</td>\n",
       "      <td>...</td>\n",
       "      <td>oppo</td>\n",
       "      <td>2816.0</td>\n",
       "      <td>1024.0</td>\n",
       "      <td>2816.0</td>\n",
       "      <td>1024.0</td>\n",
       "      <td>8.0</td>\n",
       "      <td>720.0</td>\n",
       "      <td>adreno (tm) 506</td>\n",
       "      <td>android os 8.1.0 / api-27 (opm1.171019.026/155...</td>\n",
       "      <td>cph1803</td>\n",
       "    </tr>\n",
       "  </tbody>\n",
       "</table>\n",
       "<p>5 rows × 29 columns</p>\n",
       "</div>"
      ],
      "text/plain": [
       "   uid_s lang_s geo_s  region_s   tz_i  local_time_join_hour  \\\n",
       "0      0     EN    MY      asia  28800                    14   \n",
       "1      1     ES    MX  americas -18000                    14   \n",
       "2      2  ZH-CN    CN      asia  28800                     2   \n",
       "3      3  ZH-CN    CN      asia  28800                     8   \n",
       "4      4     EN    IN      asia  19800                    19   \n",
       "\n",
       "   local_time_join_dow  total_spend  logins  game_stats_tutorial_complete  \\\n",
       "0                    3            0     7.0                           1.0   \n",
       "1                    1            0     2.0                           1.0   \n",
       "2                    3            0     2.0                           1.0   \n",
       "3                    6            0     3.0                           1.0   \n",
       "4                    6            0     4.0                           1.0   \n",
       "\n",
       "   ...  device_manufacturer_s  device_mem_i  device_gmem_i  \\\n",
       "0  ...                   asus        3575.0         1024.0   \n",
       "1  ...               motorola        1867.0          512.0   \n",
       "2  ...                 xiaomi        3726.0         1024.0   \n",
       "3  ...                   oppo        3629.0         1024.0   \n",
       "4  ...                   oppo        2816.0         1024.0   \n",
       "\n",
       "   device_mem_grouping_i  device_gmem_grouping_i  device_numcpu_i  \\\n",
       "0                 3584.0                  1024.0              8.0   \n",
       "1                 1920.0                   512.0              8.0   \n",
       "2                 3776.0                  1024.0              8.0   \n",
       "3                 3648.0                  1024.0              8.0   \n",
       "4                 2816.0                  1024.0              8.0   \n",
       "\n",
       "   device_height_i     device_gpu_s  \\\n",
       "0            720.0  adreno (tm) 506   \n",
       "1           1080.0  adreno (tm) 505   \n",
       "2           1080.0  adreno (tm) 540   \n",
       "3           1080.0  adreno (tm) 405   \n",
       "4            720.0  adreno (tm) 506   \n",
       "\n",
       "                                         device_os_s device_model_s  \n",
       "0  android os 9 / api-28 (ww_phone-201905061022/1...     asus_x01ad  \n",
       "1   android os 8.1.0 / api-27 (opps28.85-13-6/04442)     moto g (5)  \n",
       "2  android os 8.0.0 / api-26 (opr1.170623.027/v10...           mi 6  \n",
       "3  android os 5.1.1 / api-22 (lmy47v/eng.root.201...   oppo r7splus  \n",
       "4  android os 8.1.0 / api-27 (opm1.171019.026/155...        cph1803  \n",
       "\n",
       "[5 rows x 29 columns]"
      ]
     },
     "metadata": {},
     "output_type": "display_data"
    },
    {
     "name": "stdout",
     "output_type": "stream",
     "text": [
      "shape of the data frame:  (2845931, 29)\n"
     ]
    }
   ],
   "source": [
    "### Let's make a dataframe with all the data\n",
    "\n",
    "df_all_data = pd.merge(pd.merge(df_ka_users, df_ka_actions, on='uid_s'), df_ka_devices, on= \"uid_s\").copy()\n",
    "display(df_all_data.head())\n",
    "print(\"shape of the data frame: \", df_all_data.shape)"
   ]
  },
  {
   "cell_type": "markdown",
   "metadata": {},
   "source": [
    "Let's look at the columns of our data frame:"
   ]
  },
  {
   "cell_type": "code",
   "execution_count": 6,
   "metadata": {},
   "outputs": [
    {
     "data": {
      "text/plain": [
       "array(['uid_s', 'lang_s', 'geo_s', 'region_s', 'tz_i',\n",
       "       'local_time_join_hour', 'local_time_join_dow', 'total_spend',\n",
       "       'logins', 'game_stats_tutorial_complete',\n",
       "       'game_stats_tutorial_complete_time', 'game_stats_xp',\n",
       "       'game_stats_xp1', 'game_stats_xp2', 'game_stats_xp3',\n",
       "       'redeemer_actions', 'scribe_actions', 'platform_s',\n",
       "       'device_mapped_s', 'device_manufacturer_s', 'device_mem_i',\n",
       "       'device_gmem_i', 'device_mem_grouping_i', 'device_gmem_grouping_i',\n",
       "       'device_numcpu_i', 'device_height_i', 'device_gpu_s',\n",
       "       'device_os_s', 'device_model_s'], dtype=object)"
      ]
     },
     "metadata": {},
     "output_type": "display_data"
    }
   ],
   "source": [
    "### All the columns in our combined dataframe\n",
    "display(df_all_data.columns.values)"
   ]
  },
  {
   "cell_type": "markdown",
   "metadata": {},
   "source": [
    "  "
   ]
  },
  {
   "cell_type": "markdown",
   "metadata": {},
   "source": [
    "# Data Cleaning"
   ]
  },
  {
   "cell_type": "markdown",
   "metadata": {},
   "source": [
    "## Removing NaNs"
   ]
  },
  {
   "cell_type": "markdown",
   "metadata": {},
   "source": [
    "Let's have a closer look at our data frames and see whether we can do any cleaning.\n",
    "\n",
    "Since the question to be answered is about the users who complete the tutorial, let's have a look at its corresponding feature (as it is a key factor to filter the relevant data).\n",
    "\n",
    "Let's start with the '__df_ka_actions__' data frame."
   ]
  },
  {
   "cell_type": "code",
   "execution_count": 7,
   "metadata": {},
   "outputs": [
    {
     "name": "stdout",
     "output_type": "stream",
     "text": [
      "Below shows the number of NaN values for each column in 'df_ka_actions', out of total data of  2845931\n"
     ]
    },
    {
     "data": {
      "text/plain": [
       "uid_s                                      0\n",
       "logins                                    37\n",
       "game_stats_tutorial_complete         1088934\n",
       "game_stats_tutorial_complete_time    1094183\n",
       "game_stats_xp                         762888\n",
       "game_stats_xp1                        762888\n",
       "game_stats_xp2                        762888\n",
       "game_stats_xp3                        762888\n",
       "redeemer_actions                       10282\n",
       "scribe_actions                             1\n",
       "dtype: int64"
      ]
     },
     "metadata": {},
     "output_type": "display_data"
    }
   ],
   "source": [
    "### NaN values for 'df_ka_actions'\n",
    "print(\"Below shows the number of NaN values for each column in 'df_ka_actions', out of total data of \",df_ka_actions.shape[0] )\n",
    "display(df_ka_actions.isna().sum() )"
   ]
  },
  {
   "cell_type": "markdown",
   "metadata": {},
   "source": [
    "So, it seems a good portion of '__game_stats_tutorial_complete__' and '__game_stats_tutorial_complete_time__' are NaNs.\n",
    "\n",
    "However, if we have a value for '__game_stats_tutorial_complete_time__', the value for '__game_stats_tutorial_complete__' can also be imputed (i.e. if we have a recorded time for '__game_stats_tutorial_complete_time__', we can assign a '1' to the corresponding '__game_stats_tutorial_complete__').\n",
    "\n",
    "So, let's see whether NaNs in this two columns are on the same rows/users or not.\n"
   ]
  },
  {
   "cell_type": "code",
   "execution_count": 8,
   "metadata": {},
   "outputs": [
    {
     "data": {
      "text/plain": [
       "game_stats_tutorial_complete         1088934\n",
       "game_stats_tutorial_complete_time    1094183\n",
       "dtype: int64"
      ]
     },
     "metadata": {},
     "output_type": "display_data"
    }
   ],
   "source": [
    "### Below we first find the rows with NaN for 'game_stats_tutorial_complete_time', \n",
    "### and then count NaN for two columns of ['game_stats_tutorial_complete', 'game_stats_tutorial_complete_time']\n",
    "\n",
    "display ((df_ka_actions[['game_stats_tutorial_complete', 'game_stats_tutorial_complete_time']]\\\n",
    " [df_ka_actions['game_stats_tutorial_complete_time'].isna()]).isna().sum() )\n"
   ]
  },
  {
   "cell_type": "markdown",
   "metadata": {},
   "source": [
    "It seems unfortunately NaN values in '__game_stats_tutorial_complete__' and '__game_stats_tutorial_complete_time__' overlap. \n",
    "\n",
    "Since '__game_stats_tutorial_complete__' is a key parameter to filter for relevant data, users' data with missing '__game_stats_tutorial_complete__' values cannot be very useful.\n",
    "\n",
    "Beside '__game_stats_tutorial_complete_time__', other parameters could also be studied to impute/predict the value for '__game_stats_tutorial_complete__' (for example by building a classifier from other features etc.). However, for the interest of time, we only focus on users with non-NaN values for now as we still have enough samples.\n"
   ]
  },
  {
   "cell_type": "code",
   "execution_count": 9,
   "metadata": {},
   "outputs": [
    {
     "name": "stdout",
     "output_type": "stream",
     "text": [
      "Number of all samples (i.e. rows):  2845931\n",
      "Number of 'game_stats_tutorial_complete' inputs with NaN values: 1088934\n",
      "Number of 'game_stats_tutorial_complete' inputs with value 1: 1751748\n",
      "Number of 'game_stats_tutorial_complete' inputs with value 0: 5249\n"
     ]
    }
   ],
   "source": [
    "### Let's again have a look at the number of samples with various 'game_stats_tutorial_complete' \n",
    "print(\"Number of all samples (i.e. rows): \", df_all_data.shape[0])\n",
    "print(\"Number of 'game_stats_tutorial_complete' inputs with NaN values:\", df_all_data[(df_all_data[\"game_stats_tutorial_complete\"].isna())].shape[0])\n",
    "print(\"Number of 'game_stats_tutorial_complete' inputs with value 1:\", df_all_data[(df_all_data[\"game_stats_tutorial_complete\"]==1)].shape[0])\n",
    "print(\"Number of 'game_stats_tutorial_complete' inputs with value 0:\", df_all_data[(df_all_data[\"game_stats_tutorial_complete\"]==0)].shape[0])\n"
   ]
  },
  {
   "cell_type": "markdown",
   "metadata": {},
   "source": [
    "Let's form a new data frame by filtering for \"__game_stats_tutorial_complete__\" __= 1__ ."
   ]
  },
  {
   "cell_type": "code",
   "execution_count": 10,
   "metadata": {},
   "outputs": [
    {
     "name": "stdout",
     "output_type": "stream",
     "text": [
      "Number of samples after filtering for 'game_stats_tutorial_complete' = 1 : 1751748\n"
     ]
    }
   ],
   "source": [
    "### Since the question is about the users who complete the tutorial, let's separate the data for completed toturial\n",
    "\n",
    "df_tutorial_data = df_all_data[(df_all_data[\"game_stats_tutorial_complete\"]==1)].copy()\n",
    "print(\"Number of samples after filtering for 'game_stats_tutorial_complete' = 1 :\", df_tutorial_data.shape[0])\n"
   ]
  },
  {
   "cell_type": "code",
   "execution_count": 11,
   "metadata": {},
   "outputs": [
    {
     "name": "stdout",
     "output_type": "stream",
     "text": [
      "Number of samples with NaN values after filtering: 144\n"
     ]
    }
   ],
   "source": [
    "### Now, let's see if how many other rows still have NaN values in them:\n",
    "print(\"Number of samples with NaN values after filtering:\", df_tutorial_data.shape[0] - df_tutorial_data.dropna().shape[0])"
   ]
  },
  {
   "cell_type": "markdown",
   "metadata": {},
   "source": [
    "Above number corresponds to all users/rows that have at least a NaN value after filtering for completed tutorial.\n",
    "\n",
    "This is a negligible number of samples compared to all the data, so they can be ignored. "
   ]
  },
  {
   "cell_type": "code",
   "execution_count": 12,
   "metadata": {},
   "outputs": [],
   "source": [
    "### Let's remove the remaining rows with NaNs \n",
    "df_tutorial_data.dropna(inplace= True)\n"
   ]
  },
  {
   "cell_type": "markdown",
   "metadata": {},
   "source": [
    "Now, we have a dataframe for samples that completed the tutorial and with all the NaNs are removed.\n",
    "\n",
    "\n",
    "<br>"
   ]
  },
  {
   "cell_type": "markdown",
   "metadata": {},
   "source": [
    "## Removing Duplicates"
   ]
  },
  {
   "cell_type": "code",
   "execution_count": 13,
   "metadata": {},
   "outputs": [
    {
     "name": "stdout",
     "output_type": "stream",
     "text": [
      "All the 'uid_s' are unique:  True\n"
     ]
    }
   ],
   "source": [
    "### Let's see if our unique user identifier is indeed unique\n",
    "print(\"All the 'uid_s' are unique: \", df_tutorial_data.shape[0]==len(set(df_tutorial_data[\"uid_s\"])))"
   ]
  },
  {
   "cell_type": "code",
   "execution_count": 14,
   "metadata": {},
   "outputs": [
    {
     "name": "stdout",
     "output_type": "stream",
     "text": [
      "Number of duplicated rows/samples:  305\n"
     ]
    }
   ],
   "source": [
    "### 'uid_s' are unique. However, this could be due to the way data is stored.\n",
    "### So, let's ignore 'uid_s' and remove duplicates based on other columns.\n",
    "n_before_dup = df_tutorial_data.shape[0]\n",
    "df_tutorial_data.drop_duplicates(subset= list(df_tutorial_data.columns.values[1:]), inplace= True)\n",
    "n_after_dup = df_tutorial_data.shape[0]\n",
    "\n",
    "print(\"Number of duplicated rows/samples: \", n_before_dup - n_after_dup)\n"
   ]
  },
  {
   "cell_type": "markdown",
   "metadata": {},
   "source": [
    "Not too many duplicates.\n",
    "\n",
    "<br>"
   ]
  },
  {
   "cell_type": "markdown",
   "metadata": {},
   "source": [
    "## Outliers"
   ]
  },
  {
   "cell_type": "markdown",
   "metadata": {},
   "source": [
    "To check for outliers, let's look at the z-scores."
   ]
  },
  {
   "cell_type": "code",
   "execution_count": 15,
   "metadata": {},
   "outputs": [],
   "source": [
    "### First let's find the categorical and numnerical columns\n",
    "numerical_columns = list(df_tutorial_data.select_dtypes([np.number]).columns.values)\n",
    "categorical_columns = list(set(df_tutorial_data.columns.values) - set(numerical_columns) )\n"
   ]
  },
  {
   "cell_type": "code",
   "execution_count": 16,
   "metadata": {},
   "outputs": [],
   "source": [
    "### 'total_spend' is our target and 'game_stats_tutorial_complete'  is a binary\n",
    "### So, we remove these from our numerical columns before finding outliers\n",
    "columns_z_score = list(set(numerical_columns) - set(['total_spend','game_stats_tutorial_complete' ] ) )\n",
    "df_z_score = df_tutorial_data.loc[: , columns_z_score].copy()\n",
    "\n",
    "z_scores = stats.zscore(df_z_score)\n",
    "abs_z_scores = np.abs(z_scores)\n",
    "entries_no_outliers = (abs_z_scores < 3).all(axis=1)\n",
    "new_df_z_score = df_z_score[entries_no_outliers].copy()\n",
    "\n",
    "index_no_outliers = list(new_df_z_score.index.values)\n",
    "\n",
    "### The dataframe below is without detected outliers\n",
    "df_tutorial_no_out = df_tutorial_data.loc[index_no_outliers, :].copy()\n"
   ]
  },
  {
   "cell_type": "markdown",
   "metadata": {},
   "source": [
    "So, should we use the data frame without outliers?\n",
    "\n",
    "Let's have a closer look at our data ..."
   ]
  },
  {
   "cell_type": "code",
   "execution_count": 17,
   "metadata": {},
   "outputs": [
    {
     "name": "stdout",
     "output_type": "stream",
     "text": [
      "ratio of users with spending to total:  0.0175\n"
     ]
    }
   ],
   "source": [
    "print(\"ratio of users with spending to total: \",np.round( (sum(df_tutorial_data[\"total_spend\"]>0)/df_tutorial_data.shape[0] ), 4 ))"
   ]
  },
  {
   "cell_type": "markdown",
   "metadata": {},
   "source": [
    "This is a very small portion of our data (less than 2%).\n",
    "\n",
    "In other words, our data is highly __imbalanced__!"
   ]
  },
  {
   "cell_type": "markdown",
   "metadata": {},
   "source": [
    "Now, let's have a look at our outliers again:"
   ]
  },
  {
   "cell_type": "code",
   "execution_count": 18,
   "metadata": {},
   "outputs": [
    {
     "name": "stdout",
     "output_type": "stream",
     "text": [
      "ratio of outlier to total:  0.092\n",
      "ratio of 'users with spending in the outliers' to 'all users with spending':  0.355\n"
     ]
    }
   ],
   "source": [
    "n_total_samples = df_tutorial_data.shape[0]\n",
    "n_total_outliers = df_tutorial_no_out.shape[0]\n",
    "\n",
    "n_users_spending = sum(df_tutorial_data[\"total_spend\"]>0)\n",
    "n_users_spending_outliers = sum(df_tutorial_data[\"total_spend\"]>0) - sum(df_tutorial_no_out[\"total_spend\"]>0) \n",
    "\n",
    "print(\"ratio of outlier to total: \", np.round( (n_total_samples-n_total_outliers)/n_total_samples, 3) )\n",
    "print(\"ratio of 'users with spending in the outliers' to 'all users with spending': \", \n",
    "np.round(n_users_spending_outliers/n_users_spending , 3 ) )\n",
    "    "
   ]
  },
  {
   "cell_type": "markdown",
   "metadata": {},
   "source": [
    "So, while we are detecting about 9% of all data as outliers, around 36% of our very valuable data of 'users with spending' are included in these outliers.\n",
    "\n",
    "This is suggesting that these outliers are meaningful for our particular question, and can probably be useful. \n",
    "\n",
    "So, let's decide to keep the detected outliers for now! However, we need to come back to this for further investigation."
   ]
  },
  {
   "cell_type": "markdown",
   "metadata": {},
   "source": [
    "\n",
    "<br>\n",
    "\n",
    "These were some steps of data cleaning. Much more needs to be done. But, let's move forward for now.\n",
    "\n",
    "<br>\n"
   ]
  },
  {
   "cell_type": "markdown",
   "metadata": {},
   "source": [
    "# Feature Engineering"
   ]
  },
  {
   "cell_type": "markdown",
   "metadata": {},
   "source": [
    "## Dependent Variable"
   ]
  },
  {
   "cell_type": "markdown",
   "metadata": {},
   "source": [
    "First, let's consider our dependent variable.\n",
    "\n",
    "Since the question is only whether a user will spend money or not (rather than how much one may spend), we define a new column for our dependent variable as a binary:\n",
    "\n",
    "0 for no spending\n",
    "\n",
    "1 for some spending\n",
    "\n",
    "This way, we are changing the question to a binary classification problem."
   ]
  },
  {
   "cell_type": "code",
   "execution_count": 19,
   "metadata": {},
   "outputs": [],
   "source": [
    "### Since the question is only whether a user will spend money or not (rather than how much one may spend), \n",
    "### we can define our dependent variable as 0 and 1 (rather than total_spend)\n",
    "\n",
    "df_tutorial_data[\"spending_status\"] = np.where(df_tutorial_data[\"total_spend\"]>0, 1, 0)\n"
   ]
  },
  {
   "cell_type": "markdown",
   "metadata": {},
   "source": [
    "We will consider \"__spending_status__\" as our future dependent variable or __y__."
   ]
  },
  {
   "cell_type": "markdown",
   "metadata": {},
   "source": [
    "## Independent Variables"
   ]
  },
  {
   "cell_type": "markdown",
   "metadata": {},
   "source": [
    "Now, let's make separate dataframe for our independent variables or __X__."
   ]
  },
  {
   "cell_type": "code",
   "execution_count": 20,
   "metadata": {},
   "outputs": [],
   "source": [
    "### Now, let's form a separate dataframe for our features:\n",
    "### Let's make a copy of the df_tutorial_data dataframe\n",
    "df_X = df_tutorial_data.copy()\n",
    "\n",
    "### Let's remove the total_spend and \"spending_status\"\n",
    "df_X.drop([\"total_spend\", \"spending_status\"], axis= 1, inplace= True)\n",
    "\n",
    "### Also, the \"uis_s\" should not have an effect on our model. So, let's remove it from our features:\n",
    "df_X.drop([\"uid_s\"], axis= 1, inplace= True)\n",
    "\n",
    "### We also do not need \"game_stats_tutorial_complete\" column as it is 1 for all inputs\n",
    "### Remeber 'df_tutorial_data' has already filtered for users who completed the tutorial.\n",
    "df_X.drop([\"game_stats_tutorial_complete\"], axis= 1, inplace= True)\n"
   ]
  },
  {
   "cell_type": "markdown",
   "metadata": {},
   "source": [
    "### Drop Highly Correlated Features"
   ]
  },
  {
   "cell_type": "markdown",
   "metadata": {},
   "source": [
    "Let's see if there is any strong correlation between our independent features.\n",
    "\n",
    "We can look at the pairwise correlation of between all features. This will be for all columns that are numerical at this point."
   ]
  },
  {
   "cell_type": "code",
   "execution_count": 21,
   "metadata": {},
   "outputs": [
    {
     "data": {
      "text/html": [
       "<div>\n",
       "<style scoped>\n",
       "    .dataframe tbody tr th:only-of-type {\n",
       "        vertical-align: middle;\n",
       "    }\n",
       "\n",
       "    .dataframe tbody tr th {\n",
       "        vertical-align: top;\n",
       "    }\n",
       "\n",
       "    .dataframe thead th {\n",
       "        text-align: right;\n",
       "    }\n",
       "</style>\n",
       "<table border=\"1\" class=\"dataframe\">\n",
       "  <thead>\n",
       "    <tr style=\"text-align: right;\">\n",
       "      <th></th>\n",
       "      <th>tz_i</th>\n",
       "      <th>local_time_join_hour</th>\n",
       "      <th>local_time_join_dow</th>\n",
       "      <th>logins</th>\n",
       "      <th>game_stats_tutorial_complete_time</th>\n",
       "      <th>game_stats_xp</th>\n",
       "      <th>game_stats_xp1</th>\n",
       "      <th>game_stats_xp2</th>\n",
       "      <th>game_stats_xp3</th>\n",
       "      <th>redeemer_actions</th>\n",
       "      <th>scribe_actions</th>\n",
       "      <th>device_mem_i</th>\n",
       "      <th>device_gmem_i</th>\n",
       "      <th>device_mem_grouping_i</th>\n",
       "      <th>device_gmem_grouping_i</th>\n",
       "      <th>device_numcpu_i</th>\n",
       "      <th>device_height_i</th>\n",
       "    </tr>\n",
       "  </thead>\n",
       "  <tbody>\n",
       "    <tr>\n",
       "      <th>tz_i</th>\n",
       "      <td>1.000000</td>\n",
       "      <td>-0.038140</td>\n",
       "      <td>0.052422</td>\n",
       "      <td>-0.009981</td>\n",
       "      <td>-0.031488</td>\n",
       "      <td>-0.011003</td>\n",
       "      <td>0.013460</td>\n",
       "      <td>-0.009323</td>\n",
       "      <td>-0.012320</td>\n",
       "      <td>0.001642</td>\n",
       "      <td>0.023013</td>\n",
       "      <td>0.128798</td>\n",
       "      <td>0.260943</td>\n",
       "      <td>0.128913</td>\n",
       "      <td>0.260943</td>\n",
       "      <td>0.287946</td>\n",
       "      <td>0.111431</td>\n",
       "    </tr>\n",
       "    <tr>\n",
       "      <th>local_time_join_hour</th>\n",
       "      <td>-0.038140</td>\n",
       "      <td>1.000000</td>\n",
       "      <td>0.053052</td>\n",
       "      <td>-0.038082</td>\n",
       "      <td>-0.064428</td>\n",
       "      <td>-0.024947</td>\n",
       "      <td>0.010289</td>\n",
       "      <td>-0.003906</td>\n",
       "      <td>-0.008600</td>\n",
       "      <td>-0.029171</td>\n",
       "      <td>-0.046410</td>\n",
       "      <td>-0.000459</td>\n",
       "      <td>-0.001168</td>\n",
       "      <td>-0.000442</td>\n",
       "      <td>-0.001168</td>\n",
       "      <td>0.000239</td>\n",
       "      <td>0.016145</td>\n",
       "    </tr>\n",
       "    <tr>\n",
       "      <th>local_time_join_dow</th>\n",
       "      <td>0.052422</td>\n",
       "      <td>0.053052</td>\n",
       "      <td>1.000000</td>\n",
       "      <td>0.003974</td>\n",
       "      <td>-0.002185</td>\n",
       "      <td>-0.000025</td>\n",
       "      <td>0.007588</td>\n",
       "      <td>-0.000526</td>\n",
       "      <td>-0.002329</td>\n",
       "      <td>0.006924</td>\n",
       "      <td>0.012386</td>\n",
       "      <td>0.007518</td>\n",
       "      <td>0.016320</td>\n",
       "      <td>0.007511</td>\n",
       "      <td>0.016320</td>\n",
       "      <td>0.025038</td>\n",
       "      <td>0.011151</td>\n",
       "    </tr>\n",
       "    <tr>\n",
       "      <th>logins</th>\n",
       "      <td>-0.009981</td>\n",
       "      <td>-0.038082</td>\n",
       "      <td>0.003974</td>\n",
       "      <td>1.000000</td>\n",
       "      <td>0.162000</td>\n",
       "      <td>0.193170</td>\n",
       "      <td>0.043909</td>\n",
       "      <td>0.134656</td>\n",
       "      <td>0.146396</td>\n",
       "      <td>0.234424</td>\n",
       "      <td>0.518719</td>\n",
       "      <td>-0.020889</td>\n",
       "      <td>-0.042930</td>\n",
       "      <td>-0.020902</td>\n",
       "      <td>-0.042930</td>\n",
       "      <td>-0.060526</td>\n",
       "      <td>-0.025786</td>\n",
       "    </tr>\n",
       "    <tr>\n",
       "      <th>game_stats_tutorial_complete_time</th>\n",
       "      <td>-0.031488</td>\n",
       "      <td>-0.064428</td>\n",
       "      <td>-0.002185</td>\n",
       "      <td>0.162000</td>\n",
       "      <td>1.000000</td>\n",
       "      <td>-0.048662</td>\n",
       "      <td>-0.222335</td>\n",
       "      <td>-0.042329</td>\n",
       "      <td>-0.011312</td>\n",
       "      <td>-0.066293</td>\n",
       "      <td>0.017189</td>\n",
       "      <td>-0.020792</td>\n",
       "      <td>-0.040900</td>\n",
       "      <td>-0.020794</td>\n",
       "      <td>-0.040900</td>\n",
       "      <td>-0.018761</td>\n",
       "      <td>-0.050059</td>\n",
       "    </tr>\n",
       "    <tr>\n",
       "      <th>game_stats_xp</th>\n",
       "      <td>-0.011003</td>\n",
       "      <td>-0.024947</td>\n",
       "      <td>-0.000025</td>\n",
       "      <td>0.193170</td>\n",
       "      <td>-0.048662</td>\n",
       "      <td>1.000000</td>\n",
       "      <td>0.553211</td>\n",
       "      <td>0.703907</td>\n",
       "      <td>0.718229</td>\n",
       "      <td>0.907752</td>\n",
       "      <td>0.705679</td>\n",
       "      <td>0.030275</td>\n",
       "      <td>0.060672</td>\n",
       "      <td>0.030320</td>\n",
       "      <td>0.060672</td>\n",
       "      <td>0.004718</td>\n",
       "      <td>0.065288</td>\n",
       "    </tr>\n",
       "    <tr>\n",
       "      <th>game_stats_xp1</th>\n",
       "      <td>0.013460</td>\n",
       "      <td>0.010289</td>\n",
       "      <td>0.007588</td>\n",
       "      <td>0.043909</td>\n",
       "      <td>-0.222335</td>\n",
       "      <td>0.553211</td>\n",
       "      <td>1.000000</td>\n",
       "      <td>0.479203</td>\n",
       "      <td>0.275759</td>\n",
       "      <td>0.666813</td>\n",
       "      <td>0.589982</td>\n",
       "      <td>0.056256</td>\n",
       "      <td>0.111971</td>\n",
       "      <td>0.056304</td>\n",
       "      <td>0.111971</td>\n",
       "      <td>0.035495</td>\n",
       "      <td>0.127104</td>\n",
       "    </tr>\n",
       "    <tr>\n",
       "      <th>game_stats_xp2</th>\n",
       "      <td>-0.009323</td>\n",
       "      <td>-0.003906</td>\n",
       "      <td>-0.000526</td>\n",
       "      <td>0.134656</td>\n",
       "      <td>-0.042329</td>\n",
       "      <td>0.703907</td>\n",
       "      <td>0.479203</td>\n",
       "      <td>1.000000</td>\n",
       "      <td>0.562619</td>\n",
       "      <td>0.691452</td>\n",
       "      <td>0.557547</td>\n",
       "      <td>0.022266</td>\n",
       "      <td>0.044261</td>\n",
       "      <td>0.022295</td>\n",
       "      <td>0.044261</td>\n",
       "      <td>0.002380</td>\n",
       "      <td>0.047563</td>\n",
       "    </tr>\n",
       "    <tr>\n",
       "      <th>game_stats_xp3</th>\n",
       "      <td>-0.012320</td>\n",
       "      <td>-0.008600</td>\n",
       "      <td>-0.002329</td>\n",
       "      <td>0.146396</td>\n",
       "      <td>-0.011312</td>\n",
       "      <td>0.718229</td>\n",
       "      <td>0.275759</td>\n",
       "      <td>0.562619</td>\n",
       "      <td>1.000000</td>\n",
       "      <td>0.640655</td>\n",
       "      <td>0.484068</td>\n",
       "      <td>0.014712</td>\n",
       "      <td>0.029575</td>\n",
       "      <td>0.014741</td>\n",
       "      <td>0.029575</td>\n",
       "      <td>-0.003702</td>\n",
       "      <td>0.030960</td>\n",
       "    </tr>\n",
       "    <tr>\n",
       "      <th>redeemer_actions</th>\n",
       "      <td>0.001642</td>\n",
       "      <td>-0.029171</td>\n",
       "      <td>0.006924</td>\n",
       "      <td>0.234424</td>\n",
       "      <td>-0.066293</td>\n",
       "      <td>0.907752</td>\n",
       "      <td>0.666813</td>\n",
       "      <td>0.691452</td>\n",
       "      <td>0.640655</td>\n",
       "      <td>1.000000</td>\n",
       "      <td>0.867399</td>\n",
       "      <td>0.043887</td>\n",
       "      <td>0.087570</td>\n",
       "      <td>0.043951</td>\n",
       "      <td>0.087570</td>\n",
       "      <td>0.021334</td>\n",
       "      <td>0.093597</td>\n",
       "    </tr>\n",
       "    <tr>\n",
       "      <th>scribe_actions</th>\n",
       "      <td>0.023013</td>\n",
       "      <td>-0.046410</td>\n",
       "      <td>0.012386</td>\n",
       "      <td>0.518719</td>\n",
       "      <td>0.017189</td>\n",
       "      <td>0.705679</td>\n",
       "      <td>0.589982</td>\n",
       "      <td>0.557547</td>\n",
       "      <td>0.484068</td>\n",
       "      <td>0.867399</td>\n",
       "      <td>1.000000</td>\n",
       "      <td>0.036642</td>\n",
       "      <td>0.072501</td>\n",
       "      <td>0.036698</td>\n",
       "      <td>0.072501</td>\n",
       "      <td>0.015968</td>\n",
       "      <td>0.082572</td>\n",
       "    </tr>\n",
       "    <tr>\n",
       "      <th>device_mem_i</th>\n",
       "      <td>0.128798</td>\n",
       "      <td>-0.000459</td>\n",
       "      <td>0.007518</td>\n",
       "      <td>-0.020889</td>\n",
       "      <td>-0.020792</td>\n",
       "      <td>0.030275</td>\n",
       "      <td>0.056256</td>\n",
       "      <td>0.022266</td>\n",
       "      <td>0.014712</td>\n",
       "      <td>0.043887</td>\n",
       "      <td>0.036642</td>\n",
       "      <td>1.000000</td>\n",
       "      <td>0.443553</td>\n",
       "      <td>0.999985</td>\n",
       "      <td>0.443553</td>\n",
       "      <td>0.243374</td>\n",
       "      <td>0.136272</td>\n",
       "    </tr>\n",
       "    <tr>\n",
       "      <th>device_gmem_i</th>\n",
       "      <td>0.260943</td>\n",
       "      <td>-0.001168</td>\n",
       "      <td>0.016320</td>\n",
       "      <td>-0.042930</td>\n",
       "      <td>-0.040900</td>\n",
       "      <td>0.060672</td>\n",
       "      <td>0.111971</td>\n",
       "      <td>0.044261</td>\n",
       "      <td>0.029575</td>\n",
       "      <td>0.087570</td>\n",
       "      <td>0.072501</td>\n",
       "      <td>0.443553</td>\n",
       "      <td>1.000000</td>\n",
       "      <td>0.443501</td>\n",
       "      <td>1.000000</td>\n",
       "      <td>0.525637</td>\n",
       "      <td>0.259077</td>\n",
       "    </tr>\n",
       "    <tr>\n",
       "      <th>device_mem_grouping_i</th>\n",
       "      <td>0.128913</td>\n",
       "      <td>-0.000442</td>\n",
       "      <td>0.007511</td>\n",
       "      <td>-0.020902</td>\n",
       "      <td>-0.020794</td>\n",
       "      <td>0.030320</td>\n",
       "      <td>0.056304</td>\n",
       "      <td>0.022295</td>\n",
       "      <td>0.014741</td>\n",
       "      <td>0.043951</td>\n",
       "      <td>0.036698</td>\n",
       "      <td>0.999985</td>\n",
       "      <td>0.443501</td>\n",
       "      <td>1.000000</td>\n",
       "      <td>0.443501</td>\n",
       "      <td>0.243554</td>\n",
       "      <td>0.136617</td>\n",
       "    </tr>\n",
       "    <tr>\n",
       "      <th>device_gmem_grouping_i</th>\n",
       "      <td>0.260943</td>\n",
       "      <td>-0.001168</td>\n",
       "      <td>0.016320</td>\n",
       "      <td>-0.042930</td>\n",
       "      <td>-0.040900</td>\n",
       "      <td>0.060672</td>\n",
       "      <td>0.111971</td>\n",
       "      <td>0.044261</td>\n",
       "      <td>0.029575</td>\n",
       "      <td>0.087570</td>\n",
       "      <td>0.072501</td>\n",
       "      <td>0.443553</td>\n",
       "      <td>1.000000</td>\n",
       "      <td>0.443501</td>\n",
       "      <td>1.000000</td>\n",
       "      <td>0.525637</td>\n",
       "      <td>0.259077</td>\n",
       "    </tr>\n",
       "    <tr>\n",
       "      <th>device_numcpu_i</th>\n",
       "      <td>0.287946</td>\n",
       "      <td>0.000239</td>\n",
       "      <td>0.025038</td>\n",
       "      <td>-0.060526</td>\n",
       "      <td>-0.018761</td>\n",
       "      <td>0.004718</td>\n",
       "      <td>0.035495</td>\n",
       "      <td>0.002380</td>\n",
       "      <td>-0.003702</td>\n",
       "      <td>0.021334</td>\n",
       "      <td>0.015968</td>\n",
       "      <td>0.243374</td>\n",
       "      <td>0.525637</td>\n",
       "      <td>0.243554</td>\n",
       "      <td>0.525637</td>\n",
       "      <td>1.000000</td>\n",
       "      <td>0.099587</td>\n",
       "    </tr>\n",
       "    <tr>\n",
       "      <th>device_height_i</th>\n",
       "      <td>0.111431</td>\n",
       "      <td>0.016145</td>\n",
       "      <td>0.011151</td>\n",
       "      <td>-0.025786</td>\n",
       "      <td>-0.050059</td>\n",
       "      <td>0.065288</td>\n",
       "      <td>0.127104</td>\n",
       "      <td>0.047563</td>\n",
       "      <td>0.030960</td>\n",
       "      <td>0.093597</td>\n",
       "      <td>0.082572</td>\n",
       "      <td>0.136272</td>\n",
       "      <td>0.259077</td>\n",
       "      <td>0.136617</td>\n",
       "      <td>0.259077</td>\n",
       "      <td>0.099587</td>\n",
       "      <td>1.000000</td>\n",
       "    </tr>\n",
       "  </tbody>\n",
       "</table>\n",
       "</div>"
      ],
      "text/plain": [
       "                                       tz_i  local_time_join_hour  \\\n",
       "tz_i                               1.000000             -0.038140   \n",
       "local_time_join_hour              -0.038140              1.000000   \n",
       "local_time_join_dow                0.052422              0.053052   \n",
       "logins                            -0.009981             -0.038082   \n",
       "game_stats_tutorial_complete_time -0.031488             -0.064428   \n",
       "game_stats_xp                     -0.011003             -0.024947   \n",
       "game_stats_xp1                     0.013460              0.010289   \n",
       "game_stats_xp2                    -0.009323             -0.003906   \n",
       "game_stats_xp3                    -0.012320             -0.008600   \n",
       "redeemer_actions                   0.001642             -0.029171   \n",
       "scribe_actions                     0.023013             -0.046410   \n",
       "device_mem_i                       0.128798             -0.000459   \n",
       "device_gmem_i                      0.260943             -0.001168   \n",
       "device_mem_grouping_i              0.128913             -0.000442   \n",
       "device_gmem_grouping_i             0.260943             -0.001168   \n",
       "device_numcpu_i                    0.287946              0.000239   \n",
       "device_height_i                    0.111431              0.016145   \n",
       "\n",
       "                                   local_time_join_dow    logins  \\\n",
       "tz_i                                          0.052422 -0.009981   \n",
       "local_time_join_hour                          0.053052 -0.038082   \n",
       "local_time_join_dow                           1.000000  0.003974   \n",
       "logins                                        0.003974  1.000000   \n",
       "game_stats_tutorial_complete_time            -0.002185  0.162000   \n",
       "game_stats_xp                                -0.000025  0.193170   \n",
       "game_stats_xp1                                0.007588  0.043909   \n",
       "game_stats_xp2                               -0.000526  0.134656   \n",
       "game_stats_xp3                               -0.002329  0.146396   \n",
       "redeemer_actions                              0.006924  0.234424   \n",
       "scribe_actions                                0.012386  0.518719   \n",
       "device_mem_i                                  0.007518 -0.020889   \n",
       "device_gmem_i                                 0.016320 -0.042930   \n",
       "device_mem_grouping_i                         0.007511 -0.020902   \n",
       "device_gmem_grouping_i                        0.016320 -0.042930   \n",
       "device_numcpu_i                               0.025038 -0.060526   \n",
       "device_height_i                               0.011151 -0.025786   \n",
       "\n",
       "                                   game_stats_tutorial_complete_time  \\\n",
       "tz_i                                                       -0.031488   \n",
       "local_time_join_hour                                       -0.064428   \n",
       "local_time_join_dow                                        -0.002185   \n",
       "logins                                                      0.162000   \n",
       "game_stats_tutorial_complete_time                           1.000000   \n",
       "game_stats_xp                                              -0.048662   \n",
       "game_stats_xp1                                             -0.222335   \n",
       "game_stats_xp2                                             -0.042329   \n",
       "game_stats_xp3                                             -0.011312   \n",
       "redeemer_actions                                           -0.066293   \n",
       "scribe_actions                                              0.017189   \n",
       "device_mem_i                                               -0.020792   \n",
       "device_gmem_i                                              -0.040900   \n",
       "device_mem_grouping_i                                      -0.020794   \n",
       "device_gmem_grouping_i                                     -0.040900   \n",
       "device_numcpu_i                                            -0.018761   \n",
       "device_height_i                                            -0.050059   \n",
       "\n",
       "                                   game_stats_xp  game_stats_xp1  \\\n",
       "tz_i                                   -0.011003        0.013460   \n",
       "local_time_join_hour                   -0.024947        0.010289   \n",
       "local_time_join_dow                    -0.000025        0.007588   \n",
       "logins                                  0.193170        0.043909   \n",
       "game_stats_tutorial_complete_time      -0.048662       -0.222335   \n",
       "game_stats_xp                           1.000000        0.553211   \n",
       "game_stats_xp1                          0.553211        1.000000   \n",
       "game_stats_xp2                          0.703907        0.479203   \n",
       "game_stats_xp3                          0.718229        0.275759   \n",
       "redeemer_actions                        0.907752        0.666813   \n",
       "scribe_actions                          0.705679        0.589982   \n",
       "device_mem_i                            0.030275        0.056256   \n",
       "device_gmem_i                           0.060672        0.111971   \n",
       "device_mem_grouping_i                   0.030320        0.056304   \n",
       "device_gmem_grouping_i                  0.060672        0.111971   \n",
       "device_numcpu_i                         0.004718        0.035495   \n",
       "device_height_i                         0.065288        0.127104   \n",
       "\n",
       "                                   game_stats_xp2  game_stats_xp3  \\\n",
       "tz_i                                    -0.009323       -0.012320   \n",
       "local_time_join_hour                    -0.003906       -0.008600   \n",
       "local_time_join_dow                     -0.000526       -0.002329   \n",
       "logins                                   0.134656        0.146396   \n",
       "game_stats_tutorial_complete_time       -0.042329       -0.011312   \n",
       "game_stats_xp                            0.703907        0.718229   \n",
       "game_stats_xp1                           0.479203        0.275759   \n",
       "game_stats_xp2                           1.000000        0.562619   \n",
       "game_stats_xp3                           0.562619        1.000000   \n",
       "redeemer_actions                         0.691452        0.640655   \n",
       "scribe_actions                           0.557547        0.484068   \n",
       "device_mem_i                             0.022266        0.014712   \n",
       "device_gmem_i                            0.044261        0.029575   \n",
       "device_mem_grouping_i                    0.022295        0.014741   \n",
       "device_gmem_grouping_i                   0.044261        0.029575   \n",
       "device_numcpu_i                          0.002380       -0.003702   \n",
       "device_height_i                          0.047563        0.030960   \n",
       "\n",
       "                                   redeemer_actions  scribe_actions  \\\n",
       "tz_i                                       0.001642        0.023013   \n",
       "local_time_join_hour                      -0.029171       -0.046410   \n",
       "local_time_join_dow                        0.006924        0.012386   \n",
       "logins                                     0.234424        0.518719   \n",
       "game_stats_tutorial_complete_time         -0.066293        0.017189   \n",
       "game_stats_xp                              0.907752        0.705679   \n",
       "game_stats_xp1                             0.666813        0.589982   \n",
       "game_stats_xp2                             0.691452        0.557547   \n",
       "game_stats_xp3                             0.640655        0.484068   \n",
       "redeemer_actions                           1.000000        0.867399   \n",
       "scribe_actions                             0.867399        1.000000   \n",
       "device_mem_i                               0.043887        0.036642   \n",
       "device_gmem_i                              0.087570        0.072501   \n",
       "device_mem_grouping_i                      0.043951        0.036698   \n",
       "device_gmem_grouping_i                     0.087570        0.072501   \n",
       "device_numcpu_i                            0.021334        0.015968   \n",
       "device_height_i                            0.093597        0.082572   \n",
       "\n",
       "                                   device_mem_i  device_gmem_i  \\\n",
       "tz_i                                   0.128798       0.260943   \n",
       "local_time_join_hour                  -0.000459      -0.001168   \n",
       "local_time_join_dow                    0.007518       0.016320   \n",
       "logins                                -0.020889      -0.042930   \n",
       "game_stats_tutorial_complete_time     -0.020792      -0.040900   \n",
       "game_stats_xp                          0.030275       0.060672   \n",
       "game_stats_xp1                         0.056256       0.111971   \n",
       "game_stats_xp2                         0.022266       0.044261   \n",
       "game_stats_xp3                         0.014712       0.029575   \n",
       "redeemer_actions                       0.043887       0.087570   \n",
       "scribe_actions                         0.036642       0.072501   \n",
       "device_mem_i                           1.000000       0.443553   \n",
       "device_gmem_i                          0.443553       1.000000   \n",
       "device_mem_grouping_i                  0.999985       0.443501   \n",
       "device_gmem_grouping_i                 0.443553       1.000000   \n",
       "device_numcpu_i                        0.243374       0.525637   \n",
       "device_height_i                        0.136272       0.259077   \n",
       "\n",
       "                                   device_mem_grouping_i  \\\n",
       "tz_i                                            0.128913   \n",
       "local_time_join_hour                           -0.000442   \n",
       "local_time_join_dow                             0.007511   \n",
       "logins                                         -0.020902   \n",
       "game_stats_tutorial_complete_time              -0.020794   \n",
       "game_stats_xp                                   0.030320   \n",
       "game_stats_xp1                                  0.056304   \n",
       "game_stats_xp2                                  0.022295   \n",
       "game_stats_xp3                                  0.014741   \n",
       "redeemer_actions                                0.043951   \n",
       "scribe_actions                                  0.036698   \n",
       "device_mem_i                                    0.999985   \n",
       "device_gmem_i                                   0.443501   \n",
       "device_mem_grouping_i                           1.000000   \n",
       "device_gmem_grouping_i                          0.443501   \n",
       "device_numcpu_i                                 0.243554   \n",
       "device_height_i                                 0.136617   \n",
       "\n",
       "                                   device_gmem_grouping_i  device_numcpu_i  \\\n",
       "tz_i                                             0.260943         0.287946   \n",
       "local_time_join_hour                            -0.001168         0.000239   \n",
       "local_time_join_dow                              0.016320         0.025038   \n",
       "logins                                          -0.042930        -0.060526   \n",
       "game_stats_tutorial_complete_time               -0.040900        -0.018761   \n",
       "game_stats_xp                                    0.060672         0.004718   \n",
       "game_stats_xp1                                   0.111971         0.035495   \n",
       "game_stats_xp2                                   0.044261         0.002380   \n",
       "game_stats_xp3                                   0.029575        -0.003702   \n",
       "redeemer_actions                                 0.087570         0.021334   \n",
       "scribe_actions                                   0.072501         0.015968   \n",
       "device_mem_i                                     0.443553         0.243374   \n",
       "device_gmem_i                                    1.000000         0.525637   \n",
       "device_mem_grouping_i                            0.443501         0.243554   \n",
       "device_gmem_grouping_i                           1.000000         0.525637   \n",
       "device_numcpu_i                                  0.525637         1.000000   \n",
       "device_height_i                                  0.259077         0.099587   \n",
       "\n",
       "                                   device_height_i  \n",
       "tz_i                                      0.111431  \n",
       "local_time_join_hour                      0.016145  \n",
       "local_time_join_dow                       0.011151  \n",
       "logins                                   -0.025786  \n",
       "game_stats_tutorial_complete_time        -0.050059  \n",
       "game_stats_xp                             0.065288  \n",
       "game_stats_xp1                            0.127104  \n",
       "game_stats_xp2                            0.047563  \n",
       "game_stats_xp3                            0.030960  \n",
       "redeemer_actions                          0.093597  \n",
       "scribe_actions                            0.082572  \n",
       "device_mem_i                              0.136272  \n",
       "device_gmem_i                             0.259077  \n",
       "device_mem_grouping_i                     0.136617  \n",
       "device_gmem_grouping_i                    0.259077  \n",
       "device_numcpu_i                           0.099587  \n",
       "device_height_i                           1.000000  "
      ]
     },
     "metadata": {},
     "output_type": "display_data"
    }
   ],
   "source": [
    "### Let's have a look at the correlation between features that are not categorical:\n",
    "df_corr = df_X.corr()\n",
    "display(df_corr)\n"
   ]
  },
  {
   "cell_type": "code",
   "execution_count": 22,
   "metadata": {},
   "outputs": [
    {
     "name": "stdout",
     "output_type": "stream",
     "text": [
      "Below shows the number of features correlated with each feature. This includes the the feature itself.\n"
     ]
    },
    {
     "data": {
      "text/plain": [
       "tz_i                                 1\n",
       "local_time_join_hour                 1\n",
       "local_time_join_dow                  1\n",
       "logins                               1\n",
       "game_stats_tutorial_complete_time    1\n",
       "game_stats_xp                        1\n",
       "game_stats_xp1                       1\n",
       "game_stats_xp2                       1\n",
       "game_stats_xp3                       1\n",
       "redeemer_actions                     1\n",
       "scribe_actions                       1\n",
       "device_mem_i                         2\n",
       "device_gmem_i                        2\n",
       "device_mem_grouping_i                2\n",
       "device_gmem_grouping_i               2\n",
       "device_numcpu_i                      1\n",
       "device_height_i                      1\n",
       "dtype: int64"
      ]
     },
     "metadata": {},
     "output_type": "display_data"
    }
   ],
   "source": [
    "### Let's see if there are columns that have very high correlation with another column\n",
    "### We look for values more than 1, which means that column is correlating with at least another column than itself.\n",
    "\n",
    "df_corr = df_X.corr()\n",
    "\n",
    "### This is the threshold for considering two parameters correlated\n",
    "corr_thresh = 0.95\n",
    "\n",
    "print(\"Below shows the number of features correlated with each feature. This includes the the feature itself.\")\n",
    "display((abs(df_corr )>corr_thresh).sum())\n"
   ]
  },
  {
   "cell_type": "code",
   "execution_count": 23,
   "metadata": {},
   "outputs": [
    {
     "data": {
      "text/html": [
       "<div>\n",
       "<style scoped>\n",
       "    .dataframe tbody tr th:only-of-type {\n",
       "        vertical-align: middle;\n",
       "    }\n",
       "\n",
       "    .dataframe tbody tr th {\n",
       "        vertical-align: top;\n",
       "    }\n",
       "\n",
       "    .dataframe thead th {\n",
       "        text-align: right;\n",
       "    }\n",
       "</style>\n",
       "<table border=\"1\" class=\"dataframe\">\n",
       "  <thead>\n",
       "    <tr style=\"text-align: right;\">\n",
       "      <th></th>\n",
       "      <th>device_mem_i</th>\n",
       "      <th>device_gmem_i</th>\n",
       "      <th>device_mem_grouping_i</th>\n",
       "      <th>device_gmem_grouping_i</th>\n",
       "    </tr>\n",
       "  </thead>\n",
       "  <tbody>\n",
       "    <tr>\n",
       "      <th>device_mem_i</th>\n",
       "      <td>1.000000</td>\n",
       "      <td>0.443553</td>\n",
       "      <td>0.999985</td>\n",
       "      <td>0.443553</td>\n",
       "    </tr>\n",
       "    <tr>\n",
       "      <th>device_gmem_i</th>\n",
       "      <td>0.443553</td>\n",
       "      <td>1.000000</td>\n",
       "      <td>0.443501</td>\n",
       "      <td>1.000000</td>\n",
       "    </tr>\n",
       "    <tr>\n",
       "      <th>device_mem_grouping_i</th>\n",
       "      <td>0.999985</td>\n",
       "      <td>0.443501</td>\n",
       "      <td>1.000000</td>\n",
       "      <td>0.443501</td>\n",
       "    </tr>\n",
       "    <tr>\n",
       "      <th>device_gmem_grouping_i</th>\n",
       "      <td>0.443553</td>\n",
       "      <td>1.000000</td>\n",
       "      <td>0.443501</td>\n",
       "      <td>1.000000</td>\n",
       "    </tr>\n",
       "  </tbody>\n",
       "</table>\n",
       "</div>"
      ],
      "text/plain": [
       "                        device_mem_i  device_gmem_i  device_mem_grouping_i  \\\n",
       "device_mem_i                1.000000       0.443553               0.999985   \n",
       "device_gmem_i               0.443553       1.000000               0.443501   \n",
       "device_mem_grouping_i       0.999985       0.443501               1.000000   \n",
       "device_gmem_grouping_i      0.443553       1.000000               0.443501   \n",
       "\n",
       "                        device_gmem_grouping_i  \n",
       "device_mem_i                          0.443553  \n",
       "device_gmem_i                         1.000000  \n",
       "device_mem_grouping_i                 0.443501  \n",
       "device_gmem_grouping_i                1.000000  "
      ]
     },
     "metadata": {},
     "output_type": "display_data"
    }
   ],
   "source": [
    "### Let's look at parameters that correlate with parameters other than themselves\n",
    "\n",
    "corr_display = list((abs(df_corr )>corr_thresh).sum()[(abs(df_corr )>corr_thresh).sum()>1].index.values)\n",
    "\n",
    "display(df_corr.loc[corr_display , corr_display ])"
   ]
  },
  {
   "cell_type": "code",
   "execution_count": 24,
   "metadata": {},
   "outputs": [
    {
     "name": "stdout",
     "output_type": "stream",
     "text": [
      "It seems 'device_gmem_i' and 'device_gmem_grouping_i' are highly correlated. So, we remove one of them.\n",
      "It seems 'device_mem_i' and 'device_mem_grouping_i'are aslo highly correlated. So, we remove one of them.\n"
     ]
    }
   ],
   "source": [
    "print(\"It seems 'device_gmem_i' and 'device_gmem_grouping_i' are highly correlated. So, we remove one of them.\")\n",
    "print(\"It seems 'device_mem_i' and 'device_mem_grouping_i'are aslo highly correlated. So, we remove one of them.\")\n",
    "\n",
    "### Let's remove above\n",
    "df_X.drop(['device_gmem_grouping_i', 'device_mem_grouping_i'], axis= 1, inplace= True)"
   ]
  },
  {
   "cell_type": "markdown",
   "metadata": {},
   "source": [
    "   "
   ]
  },
  {
   "cell_type": "markdown",
   "metadata": {},
   "source": [
    "### Dummies for Categorical Features"
   ]
  },
  {
   "cell_type": "code",
   "execution_count": 25,
   "metadata": {},
   "outputs": [
    {
     "name": "stdout",
     "output_type": "stream",
     "text": [
      "Below shows the number of unique values for each categotrical variable:\n"
     ]
    },
    {
     "data": {
      "text/plain": [
       "platform_s                   2\n",
       "region_s                     5\n",
       "lang_s                      17\n",
       "geo_s                      218\n",
       "device_gpu_s               426\n",
       "device_manufacturer_s     2047\n",
       "device_mapped_s          14098\n",
       "device_model_s           14194\n",
       "device_os_s              56492\n",
       "dtype: int64"
      ]
     },
     "metadata": {},
     "output_type": "display_data"
    }
   ],
   "source": [
    "### Let's have look at number of unique values for categorical variables:\n",
    "\n",
    "df_X_cat = df_tutorial_data.loc[:, categorical_columns ].copy()\n",
    "\n",
    "print(\"Below shows the number of unique values for each categotrical variable:\")\n",
    "display(pd.Series([len(set(df_X_cat.iloc[:, i ])) \n",
    "               for i in range(df_X_cat.shape[1])], \n",
    "              index=df_X_cat.columns).sort_values() )"
   ]
  },
  {
   "cell_type": "code",
   "execution_count": 26,
   "metadata": {},
   "outputs": [
    {
     "name": "stdout",
     "output_type": "stream",
     "text": [
      "For now, we only include the categorical features with smaller number of unique values.\n",
      "This is to prevent generating too many features if we decided to convert these features to dummies.\n",
      "Please note that this should be revisited later on if needed.\n"
     ]
    }
   ],
   "source": [
    "print('For now, we only include the categorical features with smaller number of unique values.')\n",
    "print('This is to prevent generating too many features if we decided to convert these features to dummies.')\n",
    "print('Please note that this should be revisited later on if needed.')\n",
    "\n",
    "### Let's remove some of the categorical features for now:\n",
    "categorical_columns_to_drop = ['geo_s', 'device_gpu_s', 'device_manufacturer_s', 'device_mapped_s', 'device_model_s', 'device_os_s']\n",
    "df_X.drop(categorical_columns_to_drop, axis= 1, inplace= True)\n"
   ]
  },
  {
   "cell_type": "markdown",
   "metadata": {},
   "source": [
    "Below, we create dummies for the remaining categorical features:"
   ]
  },
  {
   "cell_type": "code",
   "execution_count": 27,
   "metadata": {},
   "outputs": [
    {
     "name": "stdout",
     "output_type": "stream",
     "text": [
      "Categorical columns for dummies:  ['region_s', 'lang_s', 'platform_s']\n"
     ]
    }
   ],
   "source": [
    "### Let's create the dummies\n",
    "list_var_dummies = list(set(df_X_cat.columns)- set(categorical_columns_to_drop) )\n",
    "print(\"Categorical columns for dummies: \", list_var_dummies)\n",
    "var_dummies = pd.get_dummies(df_X[list_var_dummies])\n",
    "### Let's add new columns to our df_X\n",
    "df_X[var_dummies.columns.values] = var_dummies\n",
    "\n",
    "### Let's drop the original columns\n",
    "df_X.drop(list_var_dummies, axis= 1, inplace= True)\n"
   ]
  },
  {
   "cell_type": "code",
   "execution_count": 28,
   "metadata": {},
   "outputs": [
    {
     "data": {
      "text/plain": [
       "(1751299, 39)"
      ]
     },
     "execution_count": 28,
     "metadata": {},
     "output_type": "execute_result"
    }
   ],
   "source": [
    "df_X.shape"
   ]
  },
  {
   "cell_type": "code",
   "execution_count": 29,
   "metadata": {},
   "outputs": [
    {
     "name": "stdout",
     "output_type": "stream",
     "text": [
      "Below shows the number of features correlated with each feature. This includes the the feature itself.\n"
     ]
    },
    {
     "data": {
      "text/plain": [
       "platform_s_iphone       2\n",
       "platform_s_android      2\n",
       "local_time_join_hour    1\n",
       "local_time_join_dow     1\n",
       "region_s_asia           1\n",
       "region_s_americas       1\n",
       "region_s_africa         1\n",
       "device_height_i         1\n",
       "device_numcpu_i         1\n",
       "device_gmem_i           1\n",
       "dtype: int64"
      ]
     },
     "metadata": {},
     "output_type": "display_data"
    },
    {
     "name": "stdout",
     "output_type": "stream",
     "text": [
      "It seems 'platform_s_android' and 'platform_s_iphone' are correlating. Let's have a closer look:\n"
     ]
    }
   ],
   "source": [
    "### Again, let's see if there are columns that have very high correlation with another column\n",
    "### We look for values more than 1, which means that column is correlating with at least another column than itself.\n",
    "\n",
    "df_corr = df_X.corr()\n",
    "corr_thresh = 0.95\n",
    "\n",
    "print(\"Below shows the number of features correlated with each feature. This includes the the feature itself.\")\n",
    "display((abs(df_corr )>corr_thresh).sum().sort_values(ascending=False).head(10))\n",
    "\n",
    "print(\"It seems 'platform_s_android' and 'platform_s_iphone' are correlating. Let's have a closer look:\")\n"
   ]
  },
  {
   "cell_type": "code",
   "execution_count": 30,
   "metadata": {},
   "outputs": [
    {
     "data": {
      "text/html": [
       "<div>\n",
       "<style scoped>\n",
       "    .dataframe tbody tr th:only-of-type {\n",
       "        vertical-align: middle;\n",
       "    }\n",
       "\n",
       "    .dataframe tbody tr th {\n",
       "        vertical-align: top;\n",
       "    }\n",
       "\n",
       "    .dataframe thead th {\n",
       "        text-align: right;\n",
       "    }\n",
       "</style>\n",
       "<table border=\"1\" class=\"dataframe\">\n",
       "  <thead>\n",
       "    <tr style=\"text-align: right;\">\n",
       "      <th></th>\n",
       "      <th>platform_s_android</th>\n",
       "      <th>platform_s_iphone</th>\n",
       "    </tr>\n",
       "  </thead>\n",
       "  <tbody>\n",
       "    <tr>\n",
       "      <th>platform_s_android</th>\n",
       "      <td>1.0</td>\n",
       "      <td>-1.0</td>\n",
       "    </tr>\n",
       "    <tr>\n",
       "      <th>platform_s_iphone</th>\n",
       "      <td>-1.0</td>\n",
       "      <td>1.0</td>\n",
       "    </tr>\n",
       "  </tbody>\n",
       "</table>\n",
       "</div>"
      ],
      "text/plain": [
       "                    platform_s_android  platform_s_iphone\n",
       "platform_s_android                 1.0               -1.0\n",
       "platform_s_iphone                 -1.0                1.0"
      ]
     },
     "metadata": {},
     "output_type": "display_data"
    },
    {
     "name": "stdout",
     "output_type": "stream",
     "text": [
      "Since we only had 2 categories for original feature of 'platform_s', they are anti-correlating.\n",
      "This makes sense, as knowing about one of them, defines the other.\n",
      "So, let's remove one of them.\n"
     ]
    }
   ],
   "source": [
    "display(df_corr.loc[['platform_s_android',  'platform_s_iphone'], ['platform_s_android',  'platform_s_iphone']])\n",
    "\n",
    "print(\"Since we only had 2 categories for original feature of 'platform_s', they are anti-correlating.\")\n",
    "print(\"This makes sense, as knowing about one of them, defines the other.\")      \n",
    "\n",
    "print(\"So, let's remove one of them.\")\n"
   ]
  },
  {
   "cell_type": "code",
   "execution_count": 31,
   "metadata": {},
   "outputs": [],
   "source": [
    "### Removing 'platform_s_android'\n",
    "df_X.drop(['platform_s_android'], axis= 1, inplace= True)\n"
   ]
  },
  {
   "cell_type": "markdown",
   "metadata": {},
   "source": [
    "\n",
    "For now, above dataframe has our independent variables. So, let's move to the next step."
   ]
  },
  {
   "cell_type": "markdown",
   "metadata": {},
   "source": [
    "   "
   ]
  },
  {
   "cell_type": "markdown",
   "metadata": {},
   "source": [
    "# Model Training and Tuning"
   ]
  },
  {
   "cell_type": "markdown",
   "metadata": {},
   "source": [
    "## Quick Test of Multiple Models"
   ]
  },
  {
   "cell_type": "markdown",
   "metadata": {},
   "source": [
    "Here we test a few models to see how they generally perform.\n",
    "\n",
    "We do the following steps:\n",
    "\n",
    "__Split data for training, validation and test__: We first split the data to 'remainder' and 'test'. We will set the 'test' aside for the very final test of our model.\n",
    "\n",
    "We then split the 'remainder' to 'train' and 'validation'. The 'train' will be used to train our model, and the 'validation' will be used for hyperparameter optimization etc. This way we make sure that we keep the 'test' set aside for the very final check of the model.\n",
    "\n",
    "The above is possible because we do have enough data.\n",
    "\n",
    "__Over/Under Sampling of training data__: Since our data is highly imbalanced, we need to re-sample our data for training purposes. We over-sample the data related to users with payment, and under-sample the data for users that didn't make any payment.\n",
    "\n",
    "__Evaluation__: We are interested in users that are likely to spend money in the game. These are the minority group (also considered as the positive class) in our imbalanced data. So, we want to maximize the recall (True Positive Rate) and precision (Positive Predictive Value) in predicting this minority/positive class. Thus, we use the F1 score to evaluate the model's performance for this imbalanced data set.\n"
   ]
  },
  {
   "cell_type": "code",
   "execution_count": 32,
   "metadata": {},
   "outputs": [],
   "source": [
    "### For the sake of clarity in outputs display\n",
    "import warnings\n",
    "warnings.filterwarnings(\"ignore\")\n"
   ]
  },
  {
   "cell_type": "code",
   "execution_count": 33,
   "metadata": {
    "scrolled": false
   },
   "outputs": [
    {
     "name": "stdout",
     "output_type": "stream",
     "text": [
      "----------------------------- \n",
      "\n",
      "Current model is:  Logit \n",
      "\n",
      "Let's find which probability threshold maximizes F1 score ...\n",
      "the corresponding threshold for maximum F1 score is:  0.824\n",
      "maximum F1 score for validation data is:  0.206 \n",
      "\n",
      "Let's look at the corresponding confusion matrix for maximum F1 score case - validation data:\n"
     ]
    },
    {
     "data": {
      "text/plain": [
       "array([[403165,   9781],\n",
       "       [  5393,   1973]])"
      ]
     },
     "metadata": {},
     "output_type": "display_data"
    },
    {
     "name": "stdout",
     "output_type": "stream",
     "text": [
      "\n",
      "Now, let's evaluate the model on the test set ...\n",
      "Let's look at the confusion matrix for test data:\n"
     ]
    },
    {
     "data": {
      "text/plain": [
       "array([[335818,   8304],\n",
       "       [  4525,   1613]])"
      ]
     },
     "metadata": {},
     "output_type": "display_data"
    },
    {
     "name": "stdout",
     "output_type": "stream",
     "text": [
      "Recall score for test set is:  0.263\n",
      "Precision score for test set is:  0.163\n",
      "F1 score for test set is:  0.201\n"
     ]
    },
    {
     "data": {
      "image/png": "[encoded data removed]",
      "text/plain": [
       "<Figure size 288x288 with 1 Axes>"
      ]
     },
     "metadata": {
      "needs_background": "light"
     },
     "output_type": "display_data"
    },
    {
     "name": "stdout",
     "output_type": "stream",
     "text": [
      "----------------------------- \n",
      "\n",
      "Current model is:  SVM \n",
      "\n",
      "Let's find which probability threshold maximizes F1 score ...\n",
      "the corresponding threshold for maximum F1 score is:  0.31\n",
      "maximum F1 score for validation data is:  0.034 \n",
      "\n",
      "Let's look at the corresponding confusion matrix for maximum F1 score case - validation data:\n"
     ]
    },
    {
     "data": {
      "text/plain": [
       "array([[    40, 412906],\n",
       "       [     0,   7366]])"
      ]
     },
     "metadata": {},
     "output_type": "display_data"
    },
    {
     "name": "stdout",
     "output_type": "stream",
     "text": [
      "\n",
      "Now, let's evaluate the model on the test set ...\n",
      "Let's look at the confusion matrix for test data:\n"
     ]
    },
    {
     "data": {
      "text/plain": [
       "array([[    32, 344090],\n",
       "       [     0,   6138]])"
      ]
     },
     "metadata": {},
     "output_type": "display_data"
    },
    {
     "name": "stdout",
     "output_type": "stream",
     "text": [
      "Recall score for test set is:  1.0\n",
      "Precision score for test set is:  0.018\n",
      "F1 score for test set is:  0.034\n"
     ]
    },
    {
     "data": {
      "image/png": "[encoded data removed]",
      "text/plain": [
       "<Figure size 288x288 with 1 Axes>"
      ]
     },
     "metadata": {
      "needs_background": "light"
     },
     "output_type": "display_data"
    },
    {
     "name": "stdout",
     "output_type": "stream",
     "text": [
      "----------------------------- \n",
      "\n",
      "Current model is:  RF \n",
      "\n",
      "Let's find which probability threshold maximizes F1 score ...\n",
      "the corresponding threshold for maximum F1 score is:  0.6\n",
      "maximum F1 score for validation data is:  0.185 \n",
      "\n",
      "Let's look at the corresponding confusion matrix for maximum F1 score case - validation data:\n"
     ]
    },
    {
     "data": {
      "text/plain": [
       "array([[403922,   9024],\n",
       "       [  5699,   1667]])"
      ]
     },
     "metadata": {},
     "output_type": "display_data"
    },
    {
     "name": "stdout",
     "output_type": "stream",
     "text": [
      "\n",
      "Now, let's evaluate the model on the test set ...\n",
      "Let's look at the confusion matrix for test data:\n"
     ]
    },
    {
     "data": {
      "text/plain": [
       "array([[336531,   7591],\n",
       "       [  4780,   1358]])"
      ]
     },
     "metadata": {},
     "output_type": "display_data"
    },
    {
     "name": "stdout",
     "output_type": "stream",
     "text": [
      "Recall score for test set is:  0.221\n",
      "Precision score for test set is:  0.152\n",
      "F1 score for test set is:  0.18\n"
     ]
    },
    {
     "data": {
      "image/png": "[encoded data removed]",
      "text/plain": [
       "<Figure size 288x288 with 1 Axes>"
      ]
     },
     "metadata": {
      "needs_background": "light"
     },
     "output_type": "display_data"
    },
    {
     "name": "stdout",
     "output_type": "stream",
     "text": [
      "----------------------------- \n",
      "\n",
      "Current model is:  AB \n",
      "\n",
      "Let's find which probability threshold maximizes F1 score ...\n",
      "the corresponding threshold for maximum F1 score is:  0.502\n",
      "maximum F1 score for validation data is:  0.162 \n",
      "\n",
      "Let's look at the corresponding confusion matrix for maximum F1 score case - validation data:\n"
     ]
    },
    {
     "data": {
      "text/plain": [
       "array([[398052,  14894],\n",
       "       [  5405,   1961]])"
      ]
     },
     "metadata": {},
     "output_type": "display_data"
    },
    {
     "name": "stdout",
     "output_type": "stream",
     "text": [
      "\n",
      "Now, let's evaluate the model on the test set ...\n",
      "Let's look at the confusion matrix for test data:\n"
     ]
    },
    {
     "data": {
      "text/plain": [
       "array([[331597,  12525],\n",
       "       [  4509,   1629]])"
      ]
     },
     "metadata": {},
     "output_type": "display_data"
    },
    {
     "name": "stdout",
     "output_type": "stream",
     "text": [
      "Recall score for test set is:  0.265\n",
      "Precision score for test set is:  0.115\n",
      "F1 score for test set is:  0.161\n"
     ]
    },
    {
     "data": {
      "image/png": "[encoded data removed]",
      "text/plain": [
       "<Figure size 288x288 with 1 Axes>"
      ]
     },
     "metadata": {
      "needs_background": "light"
     },
     "output_type": "display_data"
    },
    {
     "name": "stdout",
     "output_type": "stream",
     "text": [
      "----------------------------- \n",
      "\n",
      "Current model is:  GB \n",
      "\n",
      "Let's find which probability threshold maximizes F1 score ...\n",
      "the corresponding threshold for maximum F1 score is:  0.466\n",
      "maximum F1 score for validation data is:  0.199 \n",
      "\n",
      "Let's look at the corresponding confusion matrix for maximum F1 score case - validation data:\n"
     ]
    },
    {
     "data": {
      "text/plain": [
       "array([[400805,  12141],\n",
       "       [  5209,   2157]])"
      ]
     },
     "metadata": {},
     "output_type": "display_data"
    },
    {
     "name": "stdout",
     "output_type": "stream",
     "text": [
      "\n",
      "Now, let's evaluate the model on the test set ...\n",
      "Let's look at the confusion matrix for test data:\n"
     ]
    },
    {
     "data": {
      "text/plain": [
       "array([[333986,  10136],\n",
       "       [  4417,   1721]])"
      ]
     },
     "metadata": {},
     "output_type": "display_data"
    },
    {
     "name": "stdout",
     "output_type": "stream",
     "text": [
      "Recall score for test set is:  0.28\n",
      "Precision score for test set is:  0.145\n",
      "F1 score for test set is:  0.191\n"
     ]
    },
    {
     "data": {
      "image/png": "[encoded data removed]",
      "text/plain": [
       "<Figure size 288x288 with 1 Axes>"
      ]
     },
     "metadata": {
      "needs_background": "light"
     },
     "output_type": "display_data"
    },
    {
     "name": "stdout",
     "output_type": "stream",
     "text": [
      "----------------------------- \n",
      "\n",
      "Current model is:  XGB \n",
      "\n",
      "Let's find which probability threshold maximizes F1 score ...\n",
      "the corresponding threshold for maximum F1 score is:  0.499\n",
      "maximum F1 score for validation data is:  0.195 \n",
      "\n",
      "Let's look at the corresponding confusion matrix for maximum F1 score case - validation data:\n"
     ]
    },
    {
     "data": {
      "text/plain": [
       "array([[402454,  10492],\n",
       "       [  5438,   1928]])"
      ]
     },
     "metadata": {},
     "output_type": "display_data"
    },
    {
     "name": "stdout",
     "output_type": "stream",
     "text": [
      "\n",
      "Now, let's evaluate the model on the test set ...\n",
      "Let's look at the confusion matrix for test data:\n"
     ]
    },
    {
     "data": {
      "text/plain": [
       "array([[335413,   8709],\n",
       "       [  4600,   1538]])"
      ]
     },
     "metadata": {},
     "output_type": "display_data"
    },
    {
     "name": "stdout",
     "output_type": "stream",
     "text": [
      "Recall score for test set is:  0.251\n",
      "Precision score for test set is:  0.15\n",
      "F1 score for test set is:  0.188\n"
     ]
    },
    {
     "data": {
      "image/png": "[encoded data removed]",
      "text/plain": [
       "<Figure size 288x288 with 1 Axes>"
      ]
     },
     "metadata": {
      "needs_background": "light"
     },
     "output_type": "display_data"
    }
   ],
   "source": [
    "### First we saparate our data to \"remainder\" and \"test\"\n",
    "### The \"test\" will not be used until very end.\n",
    "### The \"remainder\" will be broken to \"train\" and \"validation\" for optimizing the model etc.\n",
    "\n",
    "### Taking a chunck for our 20% test set\n",
    "y = df_tutorial_data[\"spending_status\"]\n",
    "X_remainder, X_test, y_remainder, y_test = \\\n",
    "    train_test_split(df_X, y, stratify= y, test_size = 0.2,\n",
    "                     random_state=1)\n",
    "\n",
    "### Splitting the resampled data in two chunks\n",
    "X_train, X_validation, y_train, y_validation = \\\n",
    "    train_test_split(X_remainder, y_remainder,stratify= y_remainder, test_size = 0.3,\n",
    "                     random_state=1)\n",
    "\n",
    "### The data is heavily imbalanced; \n",
    "### i.e. number of users who spend money are much smaller than total\n",
    "### Let's synthetically increase the data related to paid users\n",
    "### This brings the ratio of positive (smaller) to negative (larger) group to 1:10.\n",
    "oversample = SMOTE(sampling_strategy=0.1, random_state= 1)\n",
    "X_r_os, y_r_os = oversample.fit_resample(X_train, y_train)\n",
    "### SMOTE has been suggested to work better if the other class is also under sampled\n",
    "### So, let's under sample the users data with no spending\n",
    "### This brings the ratio of positive (smaller) to negative (larger) group to 1:2.\n",
    "undersample = RandomUnderSampler(sampling_strategy=0.5, random_state= 1)\n",
    "X_r_us, y_r_us = undersample.fit_resample(X_r_os, y_r_os)\n",
    "\n",
    "### Let's redefine our train data after re-sampling\n",
    "X_train = X_r_us\n",
    "y_train = y_r_us\n",
    "\n",
    "### Let's scale the data as some of the models below may work better this way\n",
    "### However, for some models like Random Forest it does not matter.\n",
    "scaler = StandardScaler()\n",
    "scaler.fit(X_train)\n",
    "X_train_SS = scaler.transform(X_train)\n",
    "X_validation_SS = scaler.transform(X_validation)\n",
    "X_test_SS = scaler.transform(X_test)\n",
    "\n",
    "\n",
    "### Here we define some models\n",
    "my_logit = LogisticRegression(solver='lbfgs', random_state= 1)\n",
    "my_SVM = SVC(probability=True, kernel='poly', max_iter=100, random_state= 1)\n",
    "my_RF = RandomForestClassifier(random_state= 1)\n",
    "my_AB = AdaBoostClassifier(random_state= 1)\n",
    "my_GB = GradientBoostingClassifier(random_state= 1)\n",
    "my_XGB = XGBClassifier(random_state= 1)\n",
    "\n",
    "\n",
    "my_models = [(\"Logit\", my_logit), \n",
    "             (\"SVM\",my_SVM),\n",
    "             (\"RF\",my_RF), \n",
    "             (\"AB\",my_AB), \n",
    "             (\"GB\",my_GB), \n",
    "             (\"XGB\",my_XGB)\n",
    "            ]\n",
    "\n",
    "\n",
    "for model_tuple in my_models:\n",
    "    model_name = model_tuple[0]\n",
    "    model = model_tuple[1]\n",
    "    print(\"-----------------------------\", \"\\n\")\n",
    "    print(\"Current model is: \", model_name, \"\\n\")\n",
    "    model.fit(X_train_SS, y_train)\n",
    "    \n",
    "    ### We want to look at precision-recall curves, so let's predict for probabilities\n",
    "    y_proba_validation = model.predict_proba(X_validation_SS)[:, 1]\n",
    "    y_proba_train = model.predict_proba(X_train_SS)[:, 1]\n",
    "\n",
    "    ### Due to the nature of our question, we are more interested in Precision-Recall curves\n",
    "    precision_train, recall_train, thresh_train = precision_recall_curve(y_train, \n",
    "                                          y_proba_train)\n",
    "\n",
    "    precision_validation, recall_validation, thresh_validation = precision_recall_curve(y_validation, \n",
    "                                        y_proba_validation)\n",
    "    \n",
    "    print(\"Let's find which probability threshold maximizes F1 score ...\")\n",
    "\n",
    "    ### Let's find the corresponding F1 scores, and the probability threshold where it maximizes  \n",
    "    ### We then report this value as the best F1 score for our validation, and the corresponding confusion matrix\n",
    "    ### We also use the corresponding threshold to predict for the test set\n",
    "    f1_validation_array = (2*precision_validation*recall_validation/(precision_validation+recall_validation))[:-1]\n",
    "    ix_max = np.nanargmax(f1_validation_array)\n",
    "    max_f1_validation = f1_validation_array[ix_max]\n",
    "    max_f1_validation_threshold = thresh_validation[ix_max]\n",
    "    \n",
    "    ### Let's find the predictions for validation dataset for \"max_f1_validation_threshold\"\n",
    "    y_validation_pred = np.where(y_proba_validation>=max_f1_validation_threshold, 1, 0)\n",
    "\n",
    "\n",
    "    print(\"the corresponding threshold for maximum F1 score is: \", np.round(max_f1_validation_threshold , 3) )\n",
    "    print(\"maximum F1 score for validation data is: \", np.round(max_f1_validation, 3) , \"\\n\")\n",
    "\n",
    "    \n",
    "    ### Let's look at the confusion matrix\n",
    "    print(\"Let's look at the corresponding confusion matrix for maximum F1 score case - validation data:\")\n",
    "    display(confusion_matrix(y_validation, y_validation_pred) )\n",
    "\n",
    "\n",
    "    print(\"\")\n",
    "    print(\"Now, let's evaluate the model on the test set ...\")\n",
    "\n",
    "    ### Let's predict for test dataset\n",
    "    y_proba_test = model.predict_proba(X_test_SS)[:, 1]\n",
    "    y_test_pred = np.where(y_proba_test>=max_f1_validation_threshold, 1, 0)\n",
    "\n",
    "    ### Let's look at the confusion matrix\n",
    "    print(\"Let's look at the confusion matrix for test data:\")\n",
    "    display(confusion_matrix(y_test, y_test_pred) )\n",
    "\n",
    "    print(\"Recall score for test set is: \", np.round(recall_score(y_test, y_test_pred), 3) )\n",
    "    print(\"Precision score for test set is: \", np.round(precision_score(y_test, y_test_pred), 3) )\n",
    "    print(\"F1 score for test set is: \", np.round(f1_score(y_test, y_test_pred), 3) )\n",
    "\n",
    "    \n",
    "    \n",
    "    plt.figure(figsize= (4,4))\n",
    "    plt.plot(recall_train, precision_train,  c=\"orange\", label=\"train\" )\n",
    "    plt.plot(recall_validation, precision_validation,  c=\"blue\", label=\"validation\" )\n",
    "    plt.plot(np.arange(0, 1.01, 0.01), np.ones(101)*sum(y)/len(y), color='navy', linestyle='--', label=\"random expectation\")\n",
    "    plt.legend(bbox_to_anchor=(1.04,1), borderaxespad=0)\n",
    "    plt.xlabel(\"Recall (TPR)\", fontsize= 12)\n",
    "    plt.ylabel(\"Precision (PPV)\", fontsize= 12)\n",
    "    plt.show();\n",
    "    "
   ]
  },
  {
   "cell_type": "markdown",
   "metadata": {},
   "source": [
    "Please note that we used above models out of the box to have a rough idea of how they are doing. This is not their best performance as there are many model's parameters to be tuned. It is just a demonstration of the approach.\n",
    "\n",
    "<br>"
   ]
  },
  {
   "cell_type": "markdown",
   "metadata": {},
   "source": [
    "## Hyperparameter Optimization"
   ]
  },
  {
   "cell_type": "markdown",
   "metadata": {},
   "source": [
    "Most of the above models performed similarly. Let's choose one of them to tune for some hyperparameters to see whether we can improve its performance.\n",
    "Here, we investigate the Random Forest model further.\n",
    "\n",
    "We use F1 score to evaluate models. To make sure splitting our data for training is not affecting our evaluation, we do a cross validation and find the average of F1 scores.\n"
   ]
  },
  {
   "cell_type": "markdown",
   "metadata": {},
   "source": [
    "\n",
    "Here, we study the effect of 'max_depth' hyperparameter in Random Forest model.\n"
   ]
  },
  {
   "cell_type": "code",
   "execution_count": 34,
   "metadata": {},
   "outputs": [
    {
     "name": "stdout",
     "output_type": "stream",
     "text": [
      "current 'max_depth' value:  None\r"
     ]
    },
    {
     "data": {
      "image/png": "[encoded data removed]",
      "text/plain": [
       "<Figure size 288x288 with 1 Axes>"
      ]
     },
     "metadata": {
      "needs_background": "light"
     },
     "output_type": "display_data"
    }
   ],
   "source": [
    "### First we saparate our data to \"remainder\" and \"test\"\n",
    "### We do not split the 'remainder' to 'train' and 'validation' this time\n",
    "### because we want to use the cross validation method directly\n",
    "### Taking a chunck for our 20% test set:\n",
    "y = df_tutorial_data[\"spending_status\"]\n",
    "X_remainder, X_test, y_remainder, y_test = \\\n",
    "    train_test_split(df_X, y, stratify= y, test_size = 0.2,\n",
    "                     random_state=1)\n",
    "\n",
    "### Store the scores\n",
    "cross_validation_scores = []\n",
    "\n",
    "### Define the range of 'max_depth' parameter here\n",
    "d_range = [1, 5, 10, 15, 20, 25, 30, 35, 40, None]\n",
    "\n",
    "\n",
    "#Do some cross validation\n",
    "for d in d_range:\n",
    "    print(\"current 'max_depth' value: \", d, end=\"\\r\")\n",
    "\n",
    "    ### First let's define our model \n",
    "    my_RF = RandomForestClassifier(max_depth= d, random_state= 1)\n",
    "\n",
    "    ### The data is heavily imbalanced; \n",
    "    ### i.e. number of users who spend money are much smaller than total\n",
    "    ### Let's synthetically increase the data related to paid users\n",
    "    ### This brings the ratio of positive (smaller) to negative (larger) group to 1:10.\n",
    "    over_sampling = SMOTE(sampling_strategy=0.1, random_state= 1)\n",
    "    ### SMOTE has been suggested to work better if the other class is also under sampled\n",
    "    ### So, let's under sample the users data with no spending\n",
    "    ### This brings the ratio of positive (smaller) to negative (larger) group to 1:2.\n",
    "    under_sampling = RandomUnderSampler(sampling_strategy=0.5, random_state= 1)\n",
    "    \n",
    "    ### Let's use a pipeline for our calculations\n",
    "    ### Here is the steps for our pipeline\n",
    "    steps = [('over', over_sampling), ('under', under_sampling), ('model', my_RF)]\n",
    "    ### Let's define the pipeline\n",
    "    pipeline = Pipeline(steps=steps)\n",
    "    ### evaluate pipeline\n",
    "    ### Please note that number of repeats is chosen low for running time purposes\n",
    "    cv = RepeatedStratifiedKFold(n_splits=5, n_repeats=1, random_state=1)\n",
    "    f1_scores = cross_val_score(pipeline, X_remainder, y_remainder, scoring='f1', cv=cv, n_jobs=-1)\n",
    "    \n",
    "    ### the cross validation score (mean of scores from all folds)\n",
    "    cv_score = np.mean(f1_scores)\n",
    "        \n",
    "    cross_validation_scores.append(cv_score)\n",
    "    \n",
    "plt.figure(figsize= (4,4))\n",
    "x_plot = np.append(d_range[:-1],(2*d_range[-2] - d_range[-3] ) ) # to create 45 (rather than None) after 40\n",
    "plt.plot(x_plot, cross_validation_scores,label=\"Cross Validation Score\",marker='.')\n",
    "plt.legend()\n",
    "plt.xlabel('max_depth')\n",
    "plt.ylabel('Cross Validation Score (Avg. F1)')\n",
    "plt.xticks(x_plot ,[str(x) for x in d_range])\n",
    "plt.grid()\n",
    "plt.show();\n"
   ]
  },
  {
   "cell_type": "markdown",
   "metadata": {},
   "source": [
    "So, the above plot suggests that in a 'max_depth' of around 20 works the best. This is probably because using very high depths make our model to over-fit to the training data. \n",
    "\n",
    "One can now do a higher resolution search around the value of 20, to find an even more optimized value.\n",
    "\n",
    "<br>\n",
    "\n",
    "Also, if more than one hyperparameter is needed to be optimized at the same time, one can perform a grid search for the corresponding hyperparameters."
   ]
  },
  {
   "cell_type": "markdown",
   "metadata": {},
   "source": [
    "One should also note that we also have some parameters outside of our model that can be optimized. For example for our case, because the dataset is heavily imbalanced, we tried to re-sample (over and under sample) our data before training.\n",
    "\n",
    "So far we only used 1:10 ratio for oversampling, and then 1:2 ratio for under sampling.\n",
    "\n",
    "Let's investigate one of these parameters further and see whether it changes our model's performance."
   ]
  },
  {
   "cell_type": "code",
   "execution_count": 35,
   "metadata": {},
   "outputs": [
    {
     "name": "stdout",
     "output_type": "stream",
     "text": [
      "current 'sampling_strategy' value for SMOTE:  0.55\r"
     ]
    },
    {
     "data": {
      "image/png": "[encoded data removed]",
      "text/plain": [
       "<Figure size 288x288 with 1 Axes>"
      ]
     },
     "metadata": {
      "needs_background": "light"
     },
     "output_type": "display_data"
    }
   ],
   "source": [
    "### First we saparate our data to \"remainder\" and \"test\"\n",
    "### We do not split the 'remainder' to 'train' and 'validation' this time\n",
    "### because we want to use the cross validation method directly\n",
    "### Taking a chunck for our 20% test set\n",
    "y = df_tutorial_data[\"spending_status\"]\n",
    "X_remainder, X_test, y_remainder, y_test = \\\n",
    "    train_test_split(df_X, y, stratify= y, test_size = 0.2,\n",
    "                     random_state=1)\n",
    "\n",
    "### Store the scores\n",
    "cross_validation_scores = []\n",
    "\n",
    "### Define the range of 'sampling_strategy' parameter below\n",
    "s_range = [0.05, 0.1, 0.2, 0.3, 0.4, 0.5]\n",
    "\n",
    "\n",
    "#Do some cross validation\n",
    "for s in s_range:\n",
    "    print(\"current 'sampling_strategy' value for SMOTE: \", s, end=\"\\r\")\n",
    "\n",
    "    ### First let's define our model \n",
    "    my_RF = RandomForestClassifier(max_depth= 20, random_state= 1)\n",
    "\n",
    "    ### The data is heavily imbalanced; \n",
    "    ### i.e. number of users who spend money are much smaller than total\n",
    "    ### Let's synthetically increase the data related to paid users\n",
    "    ### This brings the ratio of positive (smaller) to negative (larger) group to 1:10.\n",
    "    over_sampling = SMOTE(sampling_strategy=s, random_state= 1)\n",
    "    ### SMOTE has been suggested to work better if the other class is also under sampled\n",
    "    ### So, let's under sample the users data with no spending\n",
    "    ### This brings the ratio of positive (smaller) to negative (larger) group to 1:2.\n",
    "    under_sampling = RandomUnderSampler(sampling_strategy=0.5, random_state= 1)\n",
    "    \n",
    "    ### Let's use a pipeline for our calculations\n",
    "    ### Here is the steps for our pipeline\n",
    "    steps = [('over', over_sampling), ('under', under_sampling), ('model', my_RF)]\n",
    "    ### Let's define the pipeline\n",
    "    pipeline = Pipeline(steps=steps)\n",
    "    ### evaluate pipeline\n",
    "    ### Please note that number of repeats is chosen low for running time purposes\n",
    "    cv = RepeatedStratifiedKFold(n_splits=5, n_repeats=1, random_state=1)\n",
    "    f1_scores = cross_val_score(pipeline, X_remainder, y_remainder, scoring='f1', cv=cv, n_jobs=-1)\n",
    "    \n",
    "    ### the cross validation score (mean of scores from all folds)\n",
    "    cv_score = np.mean(f1_scores)\n",
    "        \n",
    "    cross_validation_scores.append(cv_score)\n",
    "    \n",
    "plt.figure(figsize= (4,4))\n",
    "plt.plot(s_range, cross_validation_scores,label=\"Cross Validation Score\",marker='.')\n",
    "plt.legend()\n",
    "plt.xlabel(\"'sampling_strategy' for over-sampling\")\n",
    "plt.ylabel('Cross Validation Score (Avg. F1)')\n",
    "plt.grid()\n",
    "plt.show();"
   ]
  },
  {
   "cell_type": "markdown",
   "metadata": {},
   "source": [
    "It seems the 'sampling_strategy=0.1' worked the best between the tested values."
   ]
  },
  {
   "cell_type": "markdown",
   "metadata": {},
   "source": [
    "## Final Model Evaluation on Test Set"
   ]
  },
  {
   "cell_type": "markdown",
   "metadata": {},
   "source": [
    "\n",
    "Although there is still a lot that can be done, let's assume we have finalized our model.\n",
    "\n",
    "Let's do one final run, and evaluate the final model on 'test' data using optimized hyperparameters.\n"
   ]
  },
  {
   "cell_type": "code",
   "execution_count": 36,
   "metadata": {},
   "outputs": [
    {
     "name": "stdout",
     "output_type": "stream",
     "text": [
      "----------------------------- \n",
      "\n",
      "Current model is:  RF \n",
      "\n",
      "The final probablity threshold chosen for prediction:  0.473\n",
      "The confusion matrix for the test data:\n"
     ]
    },
    {
     "data": {
      "text/plain": [
       "array([[331728,  12394],\n",
       "       [  4183,   1955]])"
      ]
     },
     "metadata": {},
     "output_type": "display_data"
    },
    {
     "name": "stdout",
     "output_type": "stream",
     "text": [
      "Recall score for test set is:  0.319\n",
      "Precision score for test set is:  0.136\n",
      "F1 score for test set is:  0.191\n"
     ]
    }
   ],
   "source": [
    "### First we saparate our data to \"remainder\" and \"test\"\n",
    "### The \"test\" will not be used until very end.\n",
    "### The \"remainder\" will be broken to \"train\" and \"validation\" for fitting the model etc.\n",
    "y = df_tutorial_data[\"spending_status\"]\n",
    "\n",
    "### Taking a chunck for our 20% test set\n",
    "X_remainder, X_test, y_remainder, y_test = \\\n",
    "    train_test_split(df_X, y, stratify= y, test_size = 0.2,\n",
    "                     random_state=1)\n",
    "\n",
    "### Splitting the resampled data in two chunks\n",
    "X_train, X_validation, y_train, y_validation = \\\n",
    "    train_test_split(X_remainder, y_remainder,stratify= y_remainder, test_size = 0.3,\n",
    "                     random_state=1)\n",
    "\n",
    "### The data is heavily imbalanced; \n",
    "### i.e. number of users who spend money are much smaller than total\n",
    "### Let's synthetically increase the data related to paid users\n",
    "### This brings the ratio of positive (smaller) to negative (larger) group to 1:10.\n",
    "### ***Please note that 'sampling_strategy' has been optimized above!***\n",
    "oversample = SMOTE(sampling_strategy=0.1, random_state= 1)\n",
    "X_r_os, y_r_os = oversample.fit_resample(X_train, y_train)\n",
    "### SMOTE has been suggested to work better if the other class is also under sampled\n",
    "### So, let's under sample the users data with no spending\n",
    "### This brings the ratio of positive (smaller) to negative (larger) group to 1:2.\n",
    "undersample = RandomUnderSampler(sampling_strategy=0.5, random_state= 1)\n",
    "X_r_us, y_r_us = undersample.fit_resample(X_r_os, y_r_os)\n",
    "\n",
    "### Let's redefine our train data after re-sampling\n",
    "X_train = X_r_us\n",
    "y_train = y_r_us\n",
    "\n",
    "### Please note that we do not need to scale the data for Random Forest.\n",
    "\n",
    "### Here we define our model\n",
    "### ***Please note that we have optimized 'max_depth'***\n",
    "my_RF = RandomForestClassifier(max_depth= 20, random_state= 1)\n",
    "\n",
    "my_models = [(\"RF\",my_RF)]\n",
    "\n",
    "\n",
    "for model_tuple in my_models:\n",
    "    model_name = model_tuple[0]\n",
    "    model = model_tuple[1]\n",
    "    print(\"-----------------------------\", \"\\n\")\n",
    "    print(\"Current model is: \", model_name, \"\\n\")\n",
    "    model.fit(X_train_SS, y_train)\n",
    "    \n",
    "    ### We want to look at precision-recall curves, so let's predict for probabilities\n",
    "    y_proba_validation = model.predict_proba(X_validation_SS)[:, 1]\n",
    "    y_proba_train = model.predict_proba(X_train_SS)[:, 1]\n",
    "\n",
    "    ### Due to the nature of our question, we are more interested in Precision-Recall curves\n",
    "    precision_train, recall_train, thresh_train = precision_recall_curve(y_train, \n",
    "                                          y_proba_train)\n",
    "\n",
    "    precision_validation, recall_validation, thresh_validation = precision_recall_curve(y_validation, \n",
    "                                        y_proba_validation)\n",
    "    \n",
    "\n",
    "    ### Let's find the corresponding F1 scores, and the probability threshold where it maximizes  \n",
    "    ### We then use the corresponding threshold to predict for test set\n",
    "    f1_validation_array = (2*precision_validation*recall_validation/(precision_validation+recall_validation))[:-1]\n",
    "    ix_max = np.nanargmax(f1_validation_array)\n",
    "    max_f1_validation = f1_validation_array[ix_max]\n",
    "    max_f1_validation_threshold = thresh_validation[ix_max]\n",
    "    \n",
    "    ### Let's find the predictions for validation dataset for \"max_f1_validation_threshold\"\n",
    "    y_validation_pred = np.where(y_proba_validation>=max_f1_validation_threshold, 1, 0)\n",
    "\n",
    "\n",
    "    print(\"The final probablity threshold chosen for prediction: \", np.round(max_f1_validation_threshold , 3) )\n",
    "\n",
    "    ### Let's predict for test dataset\n",
    "    y_proba_test = model.predict_proba(X_test_SS)[:, 1]\n",
    "    y_test_pred = np.where(y_proba_test>=max_f1_validation_threshold, 1, 0)\n",
    "\n",
    "    ### Let's look at the confusion matrix\n",
    "    print(\"The confusion matrix for the test data:\")\n",
    "    display(confusion_matrix(y_test, y_test_pred) )\n",
    "\n",
    "    print(\"Recall score for test set is: \", np.round(recall_score(y_test, y_test_pred), 3) )\n",
    "    print(\"Precision score for test set is: \", np.round(precision_score(y_test, y_test_pred), 3) )\n",
    "    print(\"F1 score for test set is: \", np.round(f1_score(y_test, y_test_pred), 3) )\n"
   ]
  },
  {
   "cell_type": "markdown",
   "metadata": {},
   "source": [
    "So, after optimization the performance of our model has slightly increased compared to out of the box model.\n"
   ]
  },
  {
   "cell_type": "markdown",
   "metadata": {},
   "source": [
    "# Summary"
   ]
  },
  {
   "cell_type": "markdown",
   "metadata": {},
   "source": [
    "\n",
    "The question to be answered was to identify users that are likely to spend money in their game after finishing the tutorial. Three different sources of data were made available.\n",
    "\n",
    "The major steps taken were: __Data Cleaning__, __Feature Engineering__, __Model Training and Tuning__.\n",
    "\n",
    "An important issue was that the data is highly __imbalanced__. In other words, the number of users who spend some money (our positive class) is much smaller than the number of users who didn't spend any money. \n",
    "\n",
    "Also, since the question asked was about whether a user will spend money or not (rather than how much one may spend), we treated it as a binary classification problem (we defined a new column called “spending_status” with 0 for no spending and 1 otherwise.)\n",
    "\n",
    "\n",
    "__Data Cleaning__: After reading and combining data by the unique user identifier, we performed some data cleaning steps (dealing with NaNs, duplicates, outliers etc.).\n",
    "\n",
    "The majority of missing data (NaNs) belonged to the feature that defined whether users completed the tutorial ('game_stats_tutorial_complete'). Since this is a key feature to filter the relevant data, samples with no values for this feature were dropped. More efforts can be done to impute data for this feature.\n",
    "\n",
    "We also detected some outliers by looking at z-scores. However, we realized that while only around 9% of total data is detected as outliers, it includes around one-third of our valuable data in minority class (users with non-zero spending). Since we already had a very imbalanced data, we decided to keep the outliers. More investigation should be done regarding this issue.\n",
    "\n",
    "__Feature Engineering__: First we looked at the numerical features, and removed the ones that were highly correlated to remove redundant information.\n",
    "\n",
    "Then we looked at the categorical features, and chose some of them with reasonable number of unique values to generate dummies as new features.\n",
    "\n",
    "This is by no means enough for feature engineering step that is one of the key steps of training a good model. However, we had to move on due to interest of time. More tests are needed to further improve on this issue.\n",
    "\n",
    "\n",
    "__Model Training and Tuning__:  First we tested a few models out of the box to see how they perform. The general steps were: Split data for training, validation and test, Over/Under Sampling of training data (as well as feature scaling if needed), and Evaluation.\n",
    "\n",
    "Due to imbalanced nature of the data, we investigated precision, recall, and F1 scores to evaluate the models. Most of the chosen models performed similarly. \n",
    "\n",
    "Then, for demonstration purposes. we chose one of the models (Random Forest classifier) to optimize some hyper-parameters. To avoid over-fitting, we performed a cross validation and studied the average score. As another example, we also optimized one of the parameters used in over-sampling step. \n",
    "\n",
    "At the end, we evaluated our final model with optimized hyperparameters on the test data where some improvements were observed compared to the model with default values.\n",
    "\n",
    "Overall, the model was able to predict the users who made a payment around 10 fold higher than the random expectation.\n",
    "\n",
    "A better model can be built by doing further investigation.\n",
    "\n",
    "\n"
   ]
  }
 ],
 "metadata": {
  "kernelspec": {
   "display_name": "Python 3",
   "language": "python",
   "name": "python3"
  },
  "language_info": {
   "codemirror_mode": {
    "name": "ipython",
    "version": 3
   },
   "file_extension": ".py",
   "mimetype": "text/x-python",
   "name": "python",
   "nbconvert_exporter": "python",
   "pygments_lexer": "ipython3",
   "version": "3.7.3"
  },
  "toc": {
   "base_numbering": 1,
   "nav_menu": {},
   "number_sections": false,
   "sideBar": true,
   "skip_h1_title": false,
   "title_cell": "Table of Contents",
   "title_sidebar": "Contents",
   "toc_cell": false,
   "toc_position": {
    "height": "calc(100% - 180px)",
    "left": "10px",
    "top": "150px",
    "width": "170px"
   },
   "toc_section_display": true,
   "toc_window_display": true
  }
 },
 "nbformat": 4,
 "nbformat_minor": 2
}
